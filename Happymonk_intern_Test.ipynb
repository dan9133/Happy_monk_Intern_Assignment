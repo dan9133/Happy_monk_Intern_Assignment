{
  "nbformat": 4,
  "nbformat_minor": 0,
  "metadata": {
    "colab": {
      "provenance": [],
      "authorship_tag": "ABX9TyP0z3jJNDRD+7sSw/HKCRvX",
      "include_colab_link": true
    },
    "kernelspec": {
      "name": "python3",
      "display_name": "Python 3"
    },
    "language_info": {
      "name": "python"
    }
  },
  "cells": [
    {
      "cell_type": "markdown",
      "metadata": {
        "id": "view-in-github",
        "colab_type": "text"
      },
      "source": [
        "<a href=\"https://colab.research.google.com/github/dan9133/Happy_monk_Intern_Assignment/blob/main/Happymonk_intern_Test.ipynb\" target=\"_parent\"><img src=\"https://colab.research.google.com/assets/colab-badge.svg\" alt=\"Open In Colab\"/></a>"
      ]
    },
    {
      "cell_type": "markdown",
      "source": [
        "**1. Write a program in Python to find the sum of digits of a number using recursion?**"
      ],
      "metadata": {
        "id": "y7bfkA5l1wle"
      }
    },
    {
      "cell_type": "code",
      "source": [
        "def sum_of_digit(n):\n",
        "  if n<10:\n",
        "    return n\n",
        "  else:\n",
        "    return n%10 + sum_of_digit(n//10)\n",
        "n=int(input(\"enter the numer:\"))\n",
        "# calcualte of sum of digit using recusrsion\n",
        "res=sum_of_digit(n)\n",
        "print(\"sum_of_digit\",res)"
      ],
      "metadata": {
        "colab": {
          "base_uri": "https://localhost:8080/"
        },
        "id": "6EyPQx_r14vT",
        "outputId": "56fb5540-ccf3-45c0-d0d0-d32bea648edb"
      },
      "execution_count": null,
      "outputs": [
        {
          "output_type": "stream",
          "name": "stdout",
          "text": [
            "enter the numer:66\n",
            "sum_of_digit 12\n"
          ]
        }
      ]
    },
    {
      "cell_type": "markdown",
      "source": [
        "**2 Write a program in Python to swap two numbers without using a third variable?**"
      ],
      "metadata": {
        "id": "OoLiW3BL3u2z"
      }
    },
    {
      "cell_type": "code",
      "source": [
        "x=int(input(\"enter the num:\"))\n",
        "y=int(input(\"enter the num: \"))\n",
        "# print(x,y)\n",
        "x=x+y\n",
        "y=x-y\n",
        "x=x-y\n",
        "print(x,y)"
      ],
      "metadata": {
        "colab": {
          "base_uri": "https://localhost:8080/"
        },
        "id": "UDkgmmAG3gdK",
        "outputId": "704865a4-c365-4cec-fb82-454649b12b5c"
      },
      "execution_count": null,
      "outputs": [
        {
          "output_type": "stream",
          "name": "stdout",
          "text": [
            "enter the num:7\n",
            "enter the num: 8\n",
            "8 7\n"
          ]
        }
      ]
    },
    {
      "cell_type": "markdown",
      "source": [
        "**3.Python Program to count occurrences of a character in below string and create a dictionary with keys as\n",
        "letters and values as count of occurrences of that letter**.\n"
      ],
      "metadata": {
        "id": "DPGEXCxU4YS0"
      }
    },
    {
      "cell_type": "code",
      "source": [
        "input_str= \"hdflshbfslkhfbslkfbhslfjhbsdvsJKBEFWEGWUYRTWGRUWOFWGEUIFBWDFWDBFHWJDVFHJKasdwtuknfiitngjt75378595hf75hr74h\"\n",
        "\n",
        "char_count={}\n",
        "for char in input_str:\n",
        "  if char.isalpha():\n",
        " # Convert the character to lowercase\n",
        "    char=char.lower()\n",
        "  if char in char_count:\n",
        "    char_count[char]+=1\n",
        "  else:\n",
        "    char_count[char]=1\n",
        "print(\"charcater of_counts\",char_count)\n"
      ],
      "metadata": {
        "colab": {
          "base_uri": "https://localhost:8080/"
        },
        "id": "dHNuUg4G4JQT",
        "outputId": "52cfb593-17c9-451b-fe0b-efe23674773a"
      },
      "execution_count": null,
      "outputs": [
        {
          "output_type": "stream",
          "name": "stdout",
          "text": [
            "charcater of_counts {'h': 10, 'd': 6, 'f': 13, 'l': 4, 's': 7, 'b': 7, 'k': 5, 'j': 5, 'v': 2, 'e': 3, 'w': 9, 'g': 4, 'u': 4, 'y': 1, 'r': 3, 't': 4, 'o': 1, 'i': 3, 'a': 1, 'n': 2, '7': 4, '5': 4, '3': 1, '8': 1, '9': 1, '4': 1}\n"
          ]
        }
      ]
    },
    {
      "cell_type": "markdown",
      "source": [
        "**Write a python program to find the transpose of an image without any inbuilt functions or packages**"
      ],
      "metadata": {
        "id": "omBK66B36iQe"
      }
    },
    {
      "cell_type": "code",
      "source": [
        "def transpose_image(image):\n",
        "    rows = len(image)\n",
        "    cols = len(image[0])\n",
        "\n",
        "    # Create a new empty matrix\n",
        "    transposed = [[0 for _ in range(rows)] for _ in range(cols)]\n",
        "\n",
        "    # Iterate through the original image  in the transposed matrix\n",
        "    for i in range(rows):\n",
        "        for j in range(cols):\n",
        "            transposed[j][i] = image[i][j]\n",
        "\n",
        "    return transposed\n",
        "\n",
        "#  image  2D list\n",
        "image = [\n",
        "    [1, 2, 3],\n",
        "    [4, 5, 6],\n",
        "    [7, 8, 9]\n",
        "]\n",
        "\n",
        "# Find the transpose of the image\n",
        "transposed_image = transpose_image(image)\n",
        "\n",
        "# Print the transposed image\n",
        "for row in transposed_image:\n",
        "    print(row)\n"
      ],
      "metadata": {
        "colab": {
          "base_uri": "https://localhost:8080/"
        },
        "id": "rox4SNzT8Um7",
        "outputId": "893240f4-a42c-4a1f-c1da-3ffaa22cdd54"
      },
      "execution_count": null,
      "outputs": [
        {
          "output_type": "stream",
          "name": "stdout",
          "text": [
            "[1, 4, 7]\n",
            "[2, 5, 8]\n",
            "[3, 6, 9]\n"
          ]
        }
      ]
    },
    {
      "cell_type": "markdown",
      "source": [
        "**ariable=[\"Bus\", \"car\", {\"Bus\":[\"car\", \"bus\", {\"car\":\"bus\", \"Car\":[\"bus\", \"car\", [\"BMW\"]],\n",
        "},\"Bus\"]},\"Bus\"]\n",
        "print BMW as a string output**\n"
      ],
      "metadata": {
        "id": "dWNWHokR_f4x"
      }
    },
    {
      "cell_type": "code",
      "source": [
        "variable = [\n",
        "    \"Bus\",\n",
        "    \"car\",\n",
        "    {\n",
        "        \"Bus\": [\n",
        "            \"car\",\n",
        "            \"bus\",\n",
        "            {\n",
        "                \"car\": \"bus\",\n",
        "                \"Car\": [\n",
        "                    \"bus\",\n",
        "                    \"car\",\n",
        "                    [\"BMW\"]\n",
        "                ]\n",
        "            },\n",
        "            \"Bus\"\n",
        "        ]\n",
        "    },\n",
        "    \"Bus\"\n",
        "]\n",
        "\n",
        "# Print \"BMW\" as a string\n",
        "bmw_string = variable[2][\"Bus\"][2][\"Car\"][2][0]\n",
        "print(bmw_string)\n"
      ],
      "metadata": {
        "colab": {
          "base_uri": "https://localhost:8080/"
        },
        "id": "5DS1ui5i_lgp",
        "outputId": "1afdc8fe-a415-47fd-93ce-d5cfe0bf80ef"
      },
      "execution_count": null,
      "outputs": [
        {
          "output_type": "stream",
          "name": "stdout",
          "text": [
            "BMW\n"
          ]
        }
      ]
    },
    {
      "cell_type": "markdown",
      "source": [
        "**hacker_rank Problem:-\n",
        "Let's learn about list comprehensions! You are given three integers x, y  and z  representing the dimensions of a cuboid along with an integer n . Print a list of all possible coordinates given by(i,j,k)  on a 3D grid where the sum of i+j+k  is not equal to n . Here, . Please use list comprehensions rather than multiple loops, as a learning exercise**"
      ],
      "metadata": {
        "id": "o3xm51nkEbLg"
      }
    },
    {
      "cell_type": "code",
      "source": [
        "if __name__ == '__main__':\n",
        "    x = int(input())\n",
        "    y = int(input())\n",
        "    z = int(input())\n",
        "    n = int(input())\n",
        "    print(list([i,j,k] for i in range(x+1) for j in range(y+1) for k in range(z+1)  if i+j+k !=n))\n"
      ],
      "metadata": {
        "colab": {
          "base_uri": "https://localhost:8080/"
        },
        "id": "RxDPebNyArui",
        "outputId": "d10afb4b-53ba-4dd5-948c-174fc592da90"
      },
      "execution_count": null,
      "outputs": [
        {
          "output_type": "stream",
          "name": "stdout",
          "text": [
            "1\n",
            "1\n",
            "1\n",
            "2\n",
            "[[0, 0, 0], [0, 0, 1], [0, 1, 0], [1, 0, 0], [1, 1, 1]]\n"
          ]
        }
      ]
    },
    {
      "cell_type": "markdown",
      "source": [
        "**Read Json File**"
      ],
      "metadata": {
        "id": "vVZ5d0XEFrjo"
      }
    },
    {
      "cell_type": "code",
      "source": [
        "import json"
      ],
      "metadata": {
        "id": "7aVN9PcmFw4Y"
      },
      "execution_count": null,
      "outputs": []
    },
    {
      "cell_type": "code",
      "source": [
        "import json\n",
        "\n",
        "# Specify the path to the uploaded JSON file\n",
        "json_file_path = '/content/results (1) (2)[3703].txt'  # Change this to the actual file name\n",
        "\n",
        "# Open the JSON file for reading\n",
        "with open(json_file_path, 'r') as json_file:\n",
        "    data = json.load(json_file)\n",
        "\n",
        "# Now you can work with the 'data' variable, which contains the JSON content\n",
        "print(data)  # Print the loaded JSON data\n",
        "\n"
      ],
      "metadata": {
        "colab": {
          "base_uri": "https://localhost:8080/"
        },
        "id": "uTKSqpc-FzcO",
        "outputId": "7e3f7133-966a-4116-9ebe-1cc226bfa23e"
      },
      "execution_count": null,
      "outputs": [
        {
          "output_type": "stream",
          "name": "stdout",
          "text": [
            "{'36': {'1': {'person_count': 2, 'vehicle_count': 0, 'frame_time': 'frametime', 'cid': 'cid', 'faces_data': {'00Rashmi': {'type': 'known_whitelist'}, '00Krishani': {'type': 'known_whitelist'}, '00Sri': {'type': 'known_whitelist'}}}, '2': {'person_count': 2, 'vehicle_count': 0, 'frame_time': 'frametime', 'cid': 'cid', 'faces_data': {'00Krishani': {'type': 'known_whitelist'}, '00Rashmi': {'type': 'known_whitelist'}, '00Sri': {'type': 'known_whitelist'}}}, '3': {'person_count': 2, 'vehicle_count': 0, 'frame_time': 'frametime', 'cid': 'cid', 'faces_data': {'00Rashmi': {'type': 'known_whitelist'}, '00Krishani': {'type': 'known_whitelist'}, '00Sri_Hari': {'type': 'known_whitelist'}}}, '4': {'person_count': 2, 'vehicle_count': 0, 'frame_time': 'frametime', 'cid': 'cid', 'faces_data': {'00Rashmi': {'type': 'known_whitelist'}, '00Krishani': {'type': 'known_whitelist'}, '00Sri_Hari': {'type': 'known_whitelist'}}}, '5': {'person_count': 2, 'vehicle_count': 0, 'frame_time': 'frametime', 'cid': 'cid', 'faces_data': {'00Rashmi': {'type': 'known_whitelist'}, '00Krishani': {'type': 'known_whitelist'}, '00Sri': {'type': 'known_whitelist'}}}, '6': {'person_count': 2, 'vehicle_count': 0, 'frame_time': 'frametime', 'cid': 'cid', 'faces_data': {'00Rashmi': {'type': 'known_whitelist'}, '00Sri_Hari': {'type': 'known_whitelist'}, '00Krishani': {'type': 'known_whitelist'}}}, '7': {'person_count': 2, 'vehicle_count': 0, 'frame_time': 'frametime', 'cid': 'cid', 'faces_data': {'00Rashmi': {'type': 'known_whitelist'}, '00Sri_Hari': {'type': 'known_whitelist'}, '00Krishani': {'type': 'known_whitelist'}}}, '8': {'person_count': 2, 'vehicle_count': 0, 'frame_time': 'frametime', 'cid': 'cid', 'faces_data': {'00Rashmi': {'type': 'known_whitelist'}, '00Krishani': {'type': 'known_whitelist'}, '00Sri_Hari': {'type': 'known_whitelist'}}}, '9': {'person_count': 2, 'vehicle_count': 0, 'frame_time': 'frametime', 'cid': 'cid', 'faces_data': {'00Rashmi': {'type': 'known_whitelist'}, '00Krishani': {'type': 'known_whitelist'}, '00Sri_Hari': {'type': 'known_whitelist'}}}, '10': {'person_count': 4, 'vehicle_count': 0, 'frame_time': 'frametime', 'cid': 'cid', 'faces_data': {'00Rashmi': {'type': 'known_whitelist'}, '00Krishani': {'type': 'known_whitelist'}, '00Sri': {'type': 'known_whitelist'}}}, '11': {'person_count': 2, 'vehicle_count': 3, 'frame_time': 'frametime', 'cid': 'cid', 'faces_data': {'00Rashmi': {'type': 'known_whitelist'}, '00Krishani': {'type': 'known_whitelist'}, '00Sri_Hari': {'type': 'known_whitelist'}}}, '12': {'person_count': 2, 'vehicle_count': 0, 'frame_time': 'frametime', 'cid': 'cid', 'faces_data': {'00Rashmi': {'type': 'known_whitelist'}, '00Krishani': {'type': 'known_whitelist'}, '00Sri_Hari': {'type': 'known_whitelist'}}}, '13': {'person_count': 2, 'vehicle_count': 0, 'frame_time': 'frametime', 'cid': 'cid', 'faces_data': {'00Rashmi': {'type': 'known_whitelist'}, '00Sri_Hari': {'type': 'known_whitelist'}, '00Krishani': {'type': 'known_whitelist'}}}, '15': {'person_count': 2, 'vehicle_count': 0, 'frame_time': 'frametime', 'cid': 'cid', 'faces_data': {'00Rashmi': {'type': 'known_whitelist'}, '00Sri_Hari': {'type': 'known_whitelist'}, '00Krishani': {'type': 'known_whitelist'}}}, '16': {'person_count': 2, 'vehicle_count': 0, 'frame_time': 'frametime', 'cid': 'cid', 'faces_data': {'00Rashmi': {'type': 'known_whitelist'}, '00Sri': {'type': 'known_whitelist'}, '00Krishani': {'type': 'known_whitelist'}}}, '17': {'person_count': 2, 'vehicle_count': 0, 'frame_time': 'frametime', 'cid': 'cid', 'faces_data': {'00Rashmi': {'type': 'known_whitelist'}, '00Sri_Hari': {'type': 'known_whitelist'}, '00Krishani': {'type': 'known_whitelist'}}}, '18': {'person_count': 2, 'vehicle_count': 0, 'frame_time': 'frametime', 'cid': 'cid', 'faces_data': {'00Rashmi': {'type': 'known_whitelist'}, '00Sri_Hari': {'type': 'known_whitelist'}}}, '19': {'person_count': 2, 'vehicle_count': 0, 'frame_time': 'frametime', 'cid': 'cid', 'faces_data': {'00Rashmi': {'type': 'known_whitelist'}, '00Sri_Hari': {'type': 'known_whitelist'}}}, '20': {'person_count': 2, 'vehicle_count': 0, 'frame_time': 'frametime', 'cid': 'cid', 'faces_data': {'00Rashmi': {'type': 'known_whitelist'}, '00Sri_Hari': {'type': 'known_whitelist'}, '00Krishani': {'type': 'known_whitelist'}}}, '21': {'person_count': 2, 'vehicle_count': 0, 'frame_time': 'frametime', 'cid': 'cid', 'faces_data': {'00Rashmi': {'type': 'known_whitelist'}, '00Sri_Hari': {'type': 'known_whitelist'}, '00Krishani': {'type': 'known_whitelist'}}}, '22': {'person_count': 2, 'vehicle_count': 0, 'frame_time': 'frametime', 'cid': 'cid', 'faces_data': {'00Rashmi': {'type': 'known_whitelist'}, '00Sri_Hari': {'type': 'known_whitelist'}, '00Krishani': {'type': 'known_whitelist'}}}, '23': {'person_count': 2, 'vehicle_count': 0, 'frame_time': 'frametime', 'cid': 'cid', 'faces_data': {'00Rashmi': {'type': 'known_whitelist'}, '00Sri_Hari': {'type': 'known_whitelist'}, '00Krishani': {'type': 'known_whitelist'}}}, '24': {'person_count': 2, 'vehicle_count': 0, 'frame_time': 'frametime', 'cid': 'cid', 'faces_data': {'00Rashmi': {'type': 'known_whitelist'}, '00Sri_Hari': {'type': 'known_whitelist'}, '00Krishani': {'type': 'known_whitelist'}}}, '25': {'person_count': 2, 'vehicle_count': 0, 'frame_time': 'frametime', 'cid': 'cid', 'faces_data': {'00Rashmi': {'type': 'known_whitelist'}, '00Sri_Hari': {'type': 'known_whitelist'}, '00Krishani': {'type': 'known_whitelist'}}}, '26': {'person_count': 2, 'vehicle_count': 0, 'frame_time': 'frametime', 'cid': 'cid', 'faces_data': {'00Rashmi': {'type': 'known_whitelist'}, '00Sri_Hari': {'type': 'known_whitelist'}, '00Krishani': {'type': 'known_whitelist'}}}, '27': {'person_count': 2, 'vehicle_count': 0, 'frame_time': 'frametime', 'cid': 'cid', 'faces_data': {'00Rashmi': {'type': 'known_whitelist'}, '00Sri_Hari': {'type': 'known_whitelist'}, '00Krishani': {'type': 'known_whitelist'}}}, '28': {'person_count': 2, 'vehicle_count': 0, 'frame_time': 'frametime', 'cid': 'cid', 'faces_data': {'00Rashmi': {'type': 'known_whitelist'}, '00Sri_Hari': {'type': 'known_whitelist'}, '00Krishani': {'type': 'known_whitelist'}}}, '29': {'person_count': 2, 'vehicle_count': 0, 'frame_time': 'frametime', 'cid': 'cid', 'faces_data': {'00Rashmi': {'type': 'known_whitelist'}, '00Sri_Hari': {'type': 'known_whitelist'}, '00Krishani': {'type': 'known_whitelist'}}}, '30': {'person_count': 2, 'vehicle_count': 0, 'frame_time': 'frametime', 'cid': 'cid', 'faces_data': {'00Rashmi': {'type': 'known_whitelist'}, '00Sri_Hari': {'type': 'known_whitelist'}, '00Krishani': {'type': 'known_whitelist'}}}, '31': {'person_count': 2, 'vehicle_count': 0, 'frame_time': 'frametime', 'cid': 'cid', 'faces_data': {'00Rashmi': {'type': 'known_whitelist'}, '00Sri_Hari': {'type': 'known_whitelist'}, '00Krishani': {'type': 'known_whitelist'}}}, '32': {'person_count': 2, 'vehicle_count': 0, 'frame_time': 'frametime', 'cid': 'cid', 'faces_data': {'00Rashmi': {'type': 'known_whitelist'}, '00Sri': {'type': 'known_whitelist'}, '00Krishani': {'type': 'known_whitelist'}}}, '33': {'person_count': 2, 'vehicle_count': 0, 'frame_time': 'frametime', 'cid': 'cid', 'faces_data': {'00Rashmi': {'type': 'known_whitelist'}, '00Sri_Hari': {'type': 'known_whitelist'}, '00Krishani': {'type': 'known_whitelist'}}}, '34': {'person_count': 2, 'vehicle_count': 0, 'frame_time': 'frametime', 'cid': 'cid', 'faces_data': {'00Rashmi': {'type': 'known_whitelist'}, '00Sri_Hari': {'type': 'known_whitelist'}, '00Krishani': {'type': 'known_whitelist'}}}, '35': {'person_count': 2, 'vehicle_count': 0, 'frame_time': 'frametime', 'cid': 'cid', 'faces_data': {'00Rashmi': {'type': 'known_whitelist'}, '00Sri_Hari': {'type': 'known_whitelist'}, '00Krishani': {'type': 'known_whitelist'}}}, '36': {'person_count': 2, 'vehicle_count': 0, 'frame_time': 'frametime', 'cid': 'cid', 'faces_data': {'00Rashmi': {'type': 'known_whitelist'}, '00Sri_Hari': {'type': 'known_whitelist'}}}, '37': {'person_count': 2, 'vehicle_count': 0, 'frame_time': 'frametime', 'cid': 'cid', 'faces_data': {'00Sri_Hari': {'type': 'known_whitelist'}, '00Rashmi': {'type': 'known_whitelist'}, '00Krishani': {'type': 'known_whitelist'}}}, '38': {'person_count': 2, 'vehicle_count': 0, 'frame_time': 'frametime', 'cid': 'cid', 'faces_data': {'00Krishani': {'type': 'known_whitelist'}, '00Rashmi': {'type': 'known_whitelist'}, '00Sri_Hari': {'type': 'known_whitelist'}}}, '39': {'person_count': 2, 'vehicle_count': 0, 'frame_time': 'frametime', 'cid': 'cid', 'faces_data': {'00Krishani': {'type': 'known_whitelist'}, '00Rashmi': {'type': 'known_whitelist'}, '00Sri_Hari': {'type': 'known_whitelist'}}}, '40': {'person_count': 2, 'vehicle_count': 0, 'frame_time': 'frametime', 'cid': 'cid', 'faces_data': {'00Rashmi': {'type': 'known_whitelist'}, '00Krishani': {'type': 'known_whitelist'}, '00Sri_Hari': {'type': 'known_whitelist'}}}, '41': {'person_count': 2, 'vehicle_count': 0, 'frame_time': 'frametime', 'cid': 'cid', 'faces_data': {'00Krishani': {'type': 'known_whitelist'}, '00Rashmi': {'type': 'known_whitelist'}, '00Sri_Hari': {'type': 'known_whitelist'}}}, '42': {'person_count': 2, 'vehicle_count': 0, 'frame_time': 'frametime', 'cid': 'cid', 'faces_data': {'00Rashmi': {'type': 'known_whitelist'}, '00Sri_Hari': {'type': 'known_whitelist'}, '00Krishani': {'type': 'known_whitelist'}}}, '43': {'person_count': 2, 'vehicle_count': 0, 'frame_time': 'frametime', 'cid': 'cid', 'faces_data': {'00Rashmi': {'type': 'known_whitelist'}, '00Sri_Hari': {'type': 'known_whitelist'}, '00Krishani': {'type': 'known_whitelist'}}}, '44': {'person_count': 2, 'vehicle_count': 0, 'frame_time': 'frametime', 'cid': 'cid', 'faces_data': {'00Sri': {'type': 'known_whitelist'}, '00Krishani': {'type': 'known_whitelist'}}}}, '18': {'1': {'person_count': 2, 'vehicle_count': 0, 'frame_time': 'frametime', 'cid': 'cid', 'faces_data': {'00Rashmi': {'type': 'known_whitelist'}, '00Krishani': {'type': 'known_whitelist'}, '00Sri_Hari': {'type': 'known_whitelist'}}}, '2': {'person_count': 2, 'vehicle_count': 0, 'frame_time': 'frametime', 'cid': 'cid', 'faces_data': {'00Rashmi': {'type': 'known_whitelist'}, '00Sri_Hari': {'type': 'known_whitelist'}}}, '3': {'person_count': 2, 'vehicle_count': 0, 'frame_time': 'frametime', 'cid': 'cid', 'faces_data': {'00Rashmi': {'type': 'known_whitelist'}, '00Krishani': {'type': 'known_whitelist'}, '00Sri_Hari': {'type': 'known_whitelist'}}}, '4': {'person_count': 2, 'vehicle_count': 0, 'frame_time': 'frametime', 'cid': 'cid', 'faces_data': {'00Rashmi': {'type': 'known_whitelist'}, '00Krishani': {'type': 'known_whitelist'}, '00Sri_Hari': {'type': 'known_whitelist'}}}, '5': {'person_count': 2, 'vehicle_count': 0, 'frame_time': 'frametime', 'cid': 'cid', 'faces_data': {'00Rashmi': {'type': 'known_whitelist'}, '00Krishani': {'type': 'known_whitelist'}, '00Sri_Hari': {'type': 'known_whitelist'}}}, '6': {'person_count': 2, 'vehicle_count': 0, 'frame_time': 'frametime', 'cid': 'cid', 'faces_data': {'00Rashmi': {'type': 'known_whitelist'}, '00Sri_Hari': {'type': 'known_whitelist'}, '00Krishani': {'type': 'known_whitelist'}}}, '7': {'person_count': 2, 'vehicle_count': 0, 'frame_time': 'frametime', 'cid': 'cid', 'faces_data': {'00Rashmi': {'type': 'known_whitelist'}, '00Sri_Hari': {'type': 'known_whitelist'}, '00Krishani': {'type': 'known_whitelist'}}}, '8': {'person_count': 2, 'vehicle_count': 0, 'frame_time': 'frametime', 'cid': 'cid', 'faces_data': {'00Rashmi': {'type': 'known_whitelist'}, '00Krishani': {'type': 'known_whitelist'}, '00Sri_Hari': {'type': 'known_whitelist'}}}, '9': {'person_count': 2, 'vehicle_count': 0, 'frame_time': 'frametime', 'cid': 'cid', 'faces_data': {'00Rashmi': {'type': 'known_whitelist'}, '00Sri': {'type': 'known_whitelist'}}}, '10': {'person_count': 2, 'vehicle_count': 0, 'frame_time': 'frametime', 'cid': 'cid', 'faces_data': {'00Rashmi': {'type': 'known_whitelist'}, '00Krishani': {'type': 'known_whitelist'}, '00Sri_Hari': {'type': 'known_whitelist'}}}, '11': {'person_count': 2, 'vehicle_count': 0, 'frame_time': 'frametime', 'cid': 'cid', 'faces_data': {'00Rashmi': {'type': 'known_whitelist'}, '00Krishani': {'type': 'known_whitelist'}, '00Sri_Hari': {'type': 'known_whitelist'}}}, '12': {'person_count': 2, 'vehicle_count': 5, 'frame_time': 'frametime', 'cid': 'cid', 'faces_data': {'00Rashmi': {'type': 'known_whitelist'}, '00Sri': {'type': 'known_whitelist'}}}, '13': {'person_count': 2, 'vehicle_count': 0, 'frame_time': 'frametime', 'cid': 'cid', 'faces_data': {'00Rashmi': {'type': 'known_whitelist'}, '00Sri_Hari': {'type': 'known_whitelist'}, '00Krishani': {'type': 'known_whitelist'}}}, '14': {'person_count': 2, 'vehicle_count': 0, 'frame_time': 'frametime', 'cid': 'cid', 'faces_data': {'00Rashmi': {'type': 'known_whitelist'}, '00Sri_Hari': {'type': 'known_whitelist'}, '00Krishani': {'type': 'known_whitelist'}}}, '16': {'person_count': 2, 'vehicle_count': 0, 'frame_time': 'frametime', 'cid': 'cid', 'faces_data': {'00Rashmi': {'type': 'known_whitelist'}, '00Sri_Hari': {'type': 'known_whitelist'}, '00Krishani': {'type': 'known_whitelist'}}}, '17': {'person_count': 2, 'vehicle_count': 0, 'frame_time': 'frametime', 'cid': 'cid', 'faces_data': {'00Rashmi': {'type': 'known_whitelist'}, '00Sri': {'type': 'known_whitelist'}, '00Krishani': {'type': 'known_whitelist'}}}, '18': {'person_count': 2, 'vehicle_count': 0, 'frame_time': 'frametime', 'cid': 'cid', 'faces_data': {'00Rashmi': {'type': 'known_whitelist'}, '00Sri_Hari': {'type': 'known_whitelist'}}}, '19': {'person_count': 2, 'vehicle_count': 0, 'frame_time': 'frametime', 'cid': 'cid', 'faces_data': {'00Rashmi': {'type': 'known_whitelist'}, '00Sri_Hari': {'type': 'known_whitelist'}}}, '20': {'person_count': 2, 'vehicle_count': 0, 'frame_time': 'frametime', 'cid': 'cid', 'faces_data': {'00Rashmi': {'type': 'known_whitelist'}, '00Sri_Hari': {'type': 'known_whitelist'}, '00Krishani': {'type': 'known_whitelist'}}}, '21': {'person_count': 2, 'vehicle_count': 0, 'frame_time': 'frametime', 'cid': 'cid', 'faces_data': {'00Rashmi': {'type': 'known_whitelist'}, '00Sri_Hari': {'type': 'known_whitelist'}, '00Krishani': {'type': 'known_whitelist'}}}, '22': {'person_count': 2, 'vehicle_count': 0, 'frame_time': 'frametime', 'cid': 'cid', 'faces_data': {'00Rashmi': {'type': 'known_whitelist'}, '00Sri_Hari': {'type': 'known_whitelist'}, '00Krishani': {'type': 'known_whitelist'}}}, '23': {'person_count': 2, 'vehicle_count': 0, 'frame_time': 'frametime', 'cid': 'cid', 'faces_data': {'00Rashmi': {'type': 'known_whitelist'}, '00Sri_Hari': {'type': 'known_whitelist'}, '00Krishani': {'type': 'known_whitelist'}}}, '24': {'person_count': 2, 'vehicle_count': 0, 'frame_time': 'frametime', 'cid': 'cid', 'faces_data': {'00Rashmi': {'type': 'known_whitelist'}, '00Sri': {'type': 'known_whitelist'}, '00Krishani': {'type': 'known_whitelist'}}}, '25': {'person_count': 2, 'vehicle_count': 0, 'frame_time': 'frametime', 'cid': 'cid', 'faces_data': {'00Rashmi': {'type': 'known_whitelist'}, '00Sri': {'type': 'known_whitelist'}, '00Krishani': {'type': 'known_whitelist'}}}, '26': {'person_count': 2, 'vehicle_count': 0, 'frame_time': 'frametime', 'cid': 'cid', 'faces_data': {'00Rashmi': {'type': 'known_whitelist'}, '00Sri': {'type': 'known_whitelist'}, '00Krishani': {'type': 'known_whitelist'}}}, '27': {'person_count': 2, 'vehicle_count': 0, 'frame_time': 'frametime', 'cid': 'cid', 'faces_data': {'00Rashmi': {'type': 'known_whitelist'}, '00Sri_Hari': {'type': 'known_whitelist'}, '00Krishani': {'type': 'known_whitelist'}}}, '28': {'person_count': 2, 'vehicle_count': 0, 'frame_time': 'frametime', 'cid': 'cid', 'faces_data': {'00Rashmi': {'type': 'known_whitelist'}, '00Sri_Hari': {'type': 'known_whitelist'}, '00Krishani': {'type': 'known_whitelist'}}}, '29': {'person_count': 2, 'vehicle_count': 0, 'frame_time': 'frametime', 'cid': 'cid', 'faces_data': {'00Rashmi': {'type': 'known_whitelist'}, '00Sri_Hari': {'type': 'known_whitelist'}, '00Krishani': {'type': 'known_whitelist'}}}, '30': {'person_count': 2, 'vehicle_count': 0, 'frame_time': 'frametime', 'cid': 'cid', 'faces_data': {'00Rashmi': {'type': 'known_whitelist'}, '00Sri_Hari': {'type': 'known_whitelist'}, '00Krishani': {'type': 'known_whitelist'}}}, '31': {'person_count': 2, 'vehicle_count': 0, 'frame_time': 'frametime', 'cid': 'cid', 'faces_data': {'00Rashmi': {'type': 'known_whitelist'}, '00Sri_Hari': {'type': 'known_whitelist'}, '00Krishani': {'type': 'known_whitelist'}}}, '32': {'person_count': 2, 'vehicle_count': 0, 'frame_time': 'frametime', 'cid': 'cid', 'faces_data': {'00Rashmi': {'type': 'known_whitelist'}, '00Sri_Hari': {'type': 'known_whitelist'}, '00Krishani': {'type': 'known_whitelist'}}}, '33': {'person_count': 2, 'vehicle_count': 2, 'frame_time': 'frametime', 'cid': 'cid', 'faces_data': {'00Rashmi': {'type': 'known_whitelist'}, '00Sri_Hari': {'type': 'known_whitelist'}, '00Krishani': {'type': 'known_whitelist'}}}, '34': {'person_count': 2, 'vehicle_count': 0, 'frame_time': 'frametime', 'cid': 'cid', 'faces_data': {'00Rashmi': {'type': 'known_whitelist'}, '00Sri_Hari': {'type': 'known_whitelist'}, '00Krishani': {'type': 'known_whitelist'}}}, '35': {'person_count': 2, 'vehicle_count': 0, 'frame_time': 'frametime', 'cid': 'cid', 'faces_data': {'00Rashmi': {'type': 'known_whitelist'}, '00Sri_Hari': {'type': 'known_whitelist'}, '00Krishani': {'type': 'known_whitelist'}}}, '36': {'person_count': 2, 'vehicle_count': 0, 'frame_time': 'frametime', 'cid': 'cid', 'faces_data': {'00Rashmi': {'type': 'known_whitelist'}, '00Sri_Hari': {'type': 'known_whitelist'}}}, '37': {'person_count': 2, 'vehicle_count': 0, 'frame_time': 'frametime', 'cid': 'cid', 'faces_data': {'00Sri_Hari': {'type': 'known_whitelist'}, '00Rashmi': {'type': 'known_whitelist'}, '00Krishani': {'type': 'known_whitelist'}}}, '38': {'person_count': 2, 'vehicle_count': 0, 'frame_time': 'frametime', 'cid': 'cid', 'faces_data': {'00Krishani': {'type': 'known_whitelist'}, '00Rashmi': {'type': 'known_whitelist'}, '00Sri_Hari': {'type': 'known_whitelist'}}}, '39': {'person_count': 2, 'vehicle_count': 0, 'frame_time': 'frametime', 'cid': 'cid', 'faces_data': {'00Krishani': {'type': 'known_whitelist'}, '00Rashmi': {'type': 'known_whitelist'}, '00Sri_Hari': {'type': 'known_whitelist'}}}, '40': {'person_count': 2, 'vehicle_count': 0, 'frame_time': 'frametime', 'cid': 'cid', 'faces_data': {'00Rashmi': {'type': 'known_whitelist'}, '00Krishani': {'type': 'known_whitelist'}, '00Sri_Hari': {'type': 'known_whitelist'}}}, '41': {'person_count': 2, 'vehicle_count': 0, 'frame_time': 'frametime', 'cid': 'cid', 'faces_data': {'00Krishani': {'type': 'known_whitelist'}, '00Rashmi': {'type': 'known_whitelist'}, '00Sri_Hari': {'type': 'known_whitelist'}}}, '42': {'person_count': 2, 'vehicle_count': 0, 'frame_time': 'frametime', 'cid': 'cid', 'faces_data': {'00Rashmi': {'type': 'known_whitelist'}, '00Sri_Hari': {'type': 'known_whitelist'}, '00Krishani': {'type': 'known_whitelist'}}}, '43': {'person_count': 2, 'vehicle_count': 0, 'frame_time': 'frametime', 'cid': 'cid', 'faces_data': {'00Rashmi': {'type': 'known_whitelist'}, '00Sri_Hari': {'type': 'known_whitelist'}, '00Krishani': {'type': 'known_whitelist'}}}, '44': {'person_count': 2, 'vehicle_count': 0, 'frame_time': 'frametime', 'cid': 'cid', 'faces_data': {'00Rashmi': {'type': 'known_whitelist'}, '00Sri_Hari': {'type': 'known_whitelist'}, '00Krishani': {'type': 'known_whitelist'}}}}, '8': {'1': {'person_count': 2, 'vehicle_count': 0, 'frame_time': 'frametime', 'cid': 'cid', 'faces_data': {'00Rashmi': {'type': 'known_whitelist'}, '00Krishani': {'type': 'known_whitelist'}, '00Sri_Hari': {'type': 'known_whitelist'}}}, '2': {'person_count': 2, 'vehicle_count': 0, 'frame_time': 'frametime', 'cid': 'cid', 'faces_data': {'00Krishani': {'type': 'known_whitelist'}, '00Rashmi': {'type': 'known_whitelist'}, '00Sri_Hari': {'type': 'known_whitelist'}}}, '3': {'person_count': 2, 'vehicle_count': 0, 'frame_time': 'frametime', 'cid': 'cid', 'faces_data': {'00Rashmi': {'type': 'known_whitelist'}, '00Krishani': {'type': 'known_whitelist'}, '00Sri_Hari': {'type': 'known_whitelist'}}}, '4': {'person_count': 2, 'vehicle_count': 0, 'frame_time': 'frametime', 'cid': 'cid', 'faces_data': {'00Rashmi': {'type': 'known_whitelist'}, '00Krishani': {'type': 'known_whitelist'}, '00Sri_Hari': {'type': 'known_whitelist'}}}, '5': {'person_count': 2, 'vehicle_count': 0, 'frame_time': 'frametime', 'cid': 'cid', 'faces_data': {'00Rashmi': {'type': 'known_whitelist'}, '00Krishani': {'type': 'known_whitelist'}, '00Sri_Hari': {'type': 'known_whitelist'}}}, '6': {'person_count': 2, 'vehicle_count': 0, 'frame_time': 'frametime', 'cid': 'cid', 'faces_data': {'00Rashmi': {'type': 'known_whitelist'}, '00Sri_Hari': {'type': 'known_whitelist'}, '00Krishani': {'type': 'known_whitelist'}}}, '7': {'person_count': 2, 'vehicle_count': 0, 'frame_time': 'frametime', 'cid': 'cid', 'faces_data': {'00Rashmi': {'type': 'known_whitelist'}, '00Sri_Hari': {'type': 'known_whitelist'}, '00Krishani': {'type': 'known_whitelist'}}}, '8': {'person_count': 2, 'vehicle_count': 0, 'frame_time': 'frametime', 'cid': 'cid', 'faces_data': {'00Rashmi': {'type': 'known_whitelist'}, '00Krishani': {'type': 'known_whitelist'}, '00Sri_Hari': {'type': 'known_whitelist'}}}, '9': {'person_count': 2, 'vehicle_count': 0, 'frame_time': 'frametime', 'cid': 'cid', 'faces_data': {'00Rashmi': {'type': 'known_whitelist'}, '00Krishani': {'type': 'known_whitelist'}, '00Sri_Hari': {'type': 'known_whitelist'}}}, '10': {'person_count': 2, 'vehicle_count': 0, 'frame_time': 'frametime', 'cid': 'cid', 'faces_data': {'00Rashmi': {'type': 'known_whitelist'}, '00Krishani': {'type': 'known_whitelist'}, '00Sri_Hari': {'type': 'known_whitelist'}}}, '11': {'person_count': 2, 'vehicle_count': 0, 'frame_time': 'frametime', 'cid': 'cid', 'faces_data': {'00Rashmi': {'type': 'known_whitelist'}, '00Krishani': {'type': 'known_whitelist'}, '00Sri_Hari': {'type': 'known_whitelist'}}}, '12': {'person_count': 2, 'vehicle_count': 0, 'frame_time': 'frametime', 'cid': 'cid', 'faces_data': {'00Rashmi': {'type': 'known_whitelist'}, '00Krishani': {'type': 'known_whitelist'}, '00Sri_Hari': {'type': 'known_whitelist'}}}, '13': {'person_count': 2, 'vehicle_count': 0, 'frame_time': 'frametime', 'cid': 'cid', 'faces_data': {'00Rashmi': {'type': 'known_whitelist'}, '00Sri_Hari': {'type': 'known_whitelist'}, '00Krishani': {'type': 'known_whitelist'}}}, '14': {'person_count': 2, 'vehicle_count': 10, 'frame_time': 'frametime', 'cid': 'cid', 'faces_data': {'00Rashmi': {'type': 'known_whitelist'}, '00Sri_Nithi': {'type': 'known_blacklist'}, '00Krishani': {'type': 'known_whitelist'}}}, '15': {'person_count': 2, 'vehicle_count': 0, 'frame_time': 'frametime', 'cid': 'cid', 'faces_data': {'00Rashmi': {'type': 'known_whitelist'}, '00Sri_Hari': {'type': 'known_whitelist'}, '00Krishani': {'type': 'known_whitelist'}}}, '17': {'person_count': 2, 'vehicle_count': 0, 'frame_time': 'frametime', 'cid': 'cid', 'faces_data': {'00Rashmi': {'type': 'known_whitelist'}, '00Sri_Hari': {'type': 'known_whitelist'}, '00Krishani': {'type': 'known_whitelist'}}}, '18': {'person_count': 2, 'vehicle_count': 0, 'frame_time': 'frametime', 'cid': 'cid', 'faces_data': {'00Rashmi': {'type': 'known_whitelist'}, '00Sri_Hari': {'type': 'known_whitelist'}}}, '19': {'person_count': 2, 'vehicle_count': 0, 'frame_time': 'frametime', 'cid': 'cid', 'faces_data': {'00Rashmi': {'type': 'known_whitelist'}, '00Sri_Hari': {'type': 'known_whitelist'}}}, '20': {'person_count': 2, 'vehicle_count': 0, 'frame_time': 'frametime', 'cid': 'cid', 'faces_data': {'00Rashmi': {'type': 'known_whitelist'}, '00Sri_Hari': {'type': 'known_whitelist'}, '00Krishani': {'type': 'known_whitelist'}}}, '21': {'person_count': 2, 'vehicle_count': 0, 'frame_time': 'frametime', 'cid': 'cid', 'faces_data': {'00Rashmi': {'type': 'known_whitelist'}, '00Sri_Hari': {'type': 'known_whitelist'}, '00Krishani': {'type': 'known_whitelist'}}}, '22': {'person_count': 2, 'vehicle_count': 0, 'frame_time': 'frametime', 'cid': 'cid', 'faces_data': {'00Rashmi': {'type': 'known_whitelist'}, '00Sri_Hari': {'type': 'known_whitelist'}, '00Krishani': {'type': 'known_whitelist'}}}, '23': {'person_count': 2, 'vehicle_count': 1, 'frame_time': 'frametime', 'cid': 'cid', 'faces_data': {'00Rashmi': {'type': 'known_whitelist'}, '00Sri_Hari': {'type': 'known_whitelist'}, '00Krishani': {'type': 'known_whitelist'}}}, '24': {'person_count': 2, 'vehicle_count': 0, 'frame_time': 'frametime', 'cid': 'cid', 'faces_data': {'00Rashmi': {'type': 'known_whitelist'}, '00Sri_Hari': {'type': 'known_whitelist'}, '00Krishani': {'type': 'known_whitelist'}}}, '25': {'person_count': 2, 'vehicle_count': 0, 'frame_time': 'frametime', 'cid': 'cid', 'faces_data': {'00Rashmi': {'type': 'known_whitelist'}, '00Sri_Hari': {'type': 'known_whitelist'}, '00Krishani': {'type': 'known_whitelist'}}}, '26': {'person_count': 2, 'vehicle_count': 0, 'frame_time': 'frametime', 'cid': 'cid', 'faces_data': {'00Rashmi': {'type': 'known_whitelist'}, '00Sri_Hari': {'type': 'known_whitelist'}, '00Krishani': {'type': 'known_whitelist'}}}, '27': {'person_count': 2, 'vehicle_count': 0, 'frame_time': 'frametime', 'cid': 'cid', 'faces_data': {'00Rashmi': {'type': 'known_whitelist'}, '00Sri_Hari': {'type': 'known_whitelist'}, '00Krishani': {'type': 'known_whitelist'}}}, '28': {'person_count': 2, 'vehicle_count': 0, 'frame_time': 'frametime', 'cid': 'cid', 'faces_data': {'00Rashmi': {'type': 'known_whitelist'}, '00Sri_Hari': {'type': 'known_whitelist'}, '00Krishani': {'type': 'known_whitelist'}}}, '29': {'person_count': 2, 'vehicle_count': 0, 'frame_time': 'frametime', 'cid': 'cid', 'faces_data': {'00Rashmi': {'type': 'known_whitelist'}, '00Sri_Hari': {'type': 'known_whitelist'}, '00Krishani': {'type': 'known_whitelist'}}}, '30': {'person_count': 2, 'vehicle_count': 0, 'frame_time': 'frametime', 'cid': 'cid', 'faces_data': {'00Rashmi': {'type': 'known_whitelist'}, '00Sri_Hari': {'type': 'known_whitelist'}, '00Krishani': {'type': 'known_whitelist'}}}, '31': {'person_count': 2, 'vehicle_count': 0, 'frame_time': 'frametime', 'cid': 'cid', 'faces_data': {'00Rashmi': {'type': 'known_whitelist'}, '00Sri_Hari': {'type': 'known_whitelist'}, '00Krishani': {'type': 'known_whitelist'}}}, '32': {'person_count': 2, 'vehicle_count': 0, 'frame_time': 'frametime', 'cid': 'cid', 'faces_data': {'00Rashmi': {'type': 'known_whitelist'}, '00Sri_Hari': {'type': 'known_whitelist'}, '00Krishani': {'type': 'known_whitelist'}}}, '33': {'person_count': 2, 'vehicle_count': 0, 'frame_time': 'frametime', 'cid': 'cid', 'faces_data': {'00Rashmi': {'type': 'known_whitelist'}, '00Sri_Hari': {'type': 'known_whitelist'}, '00Krishani': {'type': 'known_whitelist'}}}, '34': {'person_count': 2, 'vehicle_count': 0, 'frame_time': 'frametime', 'cid': 'cid', 'faces_data': {'00Rashmi': {'type': 'known_whitelist'}, '00Sri_Hari': {'type': 'known_whitelist'}, '00Krishani': {'type': 'known_whitelist'}}}, '35': {'person_count': 2, 'vehicle_count': 0, 'frame_time': 'frametime', 'cid': 'cid', 'faces_data': {'00Rashmi': {'type': 'known_whitelist'}, '00Sri_Hari': {'type': 'known_whitelist'}, '00Krishani': {'type': 'known_whitelist'}}}, '36': {'person_count': 2, 'vehicle_count': 0, 'frame_time': 'frametime', 'cid': 'cid', 'faces_data': {'00Rashmi': {'type': 'known_whitelist'}, '00Sri_Hari': {'type': 'known_whitelist'}}}, '37': {'person_count': 2, 'vehicle_count': 0, 'frame_time': 'frametime', 'cid': 'cid', 'faces_data': {'00Sri_Hari': {'type': 'known_whitelist'}, '00Rashmi': {'type': 'known_whitelist'}, '00Krishani': {'type': 'known_whitelist'}}}, '38': {'person_count': 2, 'vehicle_count': 0, 'frame_time': 'frametime', 'cid': 'cid', 'faces_data': {'00Krishani': {'type': 'known_whitelist'}, '00Rashmi': {'type': 'known_whitelist'}, '00Sri_Hari': {'type': 'known_whitelist'}}}, '39': {'person_count': 2, 'vehicle_count': 0, 'frame_time': 'frametime', 'cid': 'cid', 'faces_data': {'00Krishani': {'type': 'known_whitelist'}, '00Rashmi': {'type': 'known_whitelist'}, '00Sri_Hari': {'type': 'known_whitelist'}}}, '40': {'person_count': 2, 'vehicle_count': 0, 'frame_time': 'frametime', 'cid': 'cid', 'faces_data': {'00Rashmi': {'type': 'known_whitelist'}, '00Krishani': {'type': 'known_whitelist'}, '00Sri_Hari': {'type': 'known_whitelist'}}}, '41': {'person_count': 2, 'vehicle_count': 0, 'frame_time': 'frametime', 'cid': 'cid', 'faces_data': {'00Krishani': {'type': 'known_whitelist'}, '00Rashmi': {'type': 'known_whitelist'}, '00Sri_Hari': {'type': 'known_whitelist'}}}, '42': {'person_count': 2, 'vehicle_count': 0, 'frame_time': 'frametime', 'cid': 'cid', 'faces_data': {'00Rashmi': {'type': 'known_whitelist'}, '00Sri_Hari': {'type': 'known_whitelist'}, '00Krishani': {'type': 'known_whitelist'}}}, '43': {'person_count': 2, 'vehicle_count': 0, 'frame_time': 'frametime', 'cid': 'cid', 'faces_data': {'00Rashmi': {'type': 'known_whitelist'}, '00Sri_Hari': {'type': 'known_whitelist'}, '00Krishani': {'type': 'known_whitelist'}}}, '44': {'person_count': 2, 'vehicle_count': 0, 'frame_time': 'frametime', 'cid': 'cid', 'faces_data': {'00Rashmi': {'type': 'known_whitelist'}, '00Sri_Hari': {'type': 'known_whitelist'}, '00Krishani': {'type': 'known_whitelist'}}}}, '1': {'1': {'person_count': 2, 'vehicle_count': 0, 'frame_time': 'frametime', 'cid': 'cid', 'faces_data': {'00Rashmi': {'type': 'known_whitelist'}, '00Krishani': {'type': 'known_whitelist'}, '00Sri_Hari': {'type': 'known_whitelist'}}}, '2': {'person_count': 2, 'vehicle_count': 0, 'frame_time': 'frametime', 'cid': 'cid', 'faces_data': {'00Krishani': {'type': 'known_whitelist'}, '00Rashmi': {'type': 'known_whitelist'}, '00Sri_Hari': {'type': 'known_whitelist'}}}, '3': {'person_count': 2, 'vehicle_count': 0, 'frame_time': 'frametime', 'cid': 'cid', 'faces_data': {'00Rashmi': {'type': 'known_whitelist'}, '00Krishani': {'type': 'known_whitelist'}, '00Sri_Hari': {'type': 'known_whitelist'}}}, '4': {'person_count': 2, 'vehicle_count': 0, 'frame_time': 'frametime', 'cid': 'cid', 'faces_data': {'00Rashmi': {'type': 'known_whitelist'}, '00Krishani': {'type': 'known_whitelist'}, '00Sri_Hari': {'type': 'known_whitelist'}}}, '5': {'person_count': 2, 'vehicle_count': 0, 'frame_time': 'frametime', 'cid': 'cid', 'faces_data': {'00Rashmi': {'type': 'known_whitelist'}, '00Krishani': {'type': 'known_whitelist'}, '00Sri_Hari': {'type': 'known_whitelist'}}}, '6': {'person_count': 2, 'vehicle_count': 0, 'frame_time': 'frametime', 'cid': 'cid', 'faces_data': {'00Rashmi': {'type': 'known_whitelist'}, '00Sri_Hari': {'type': 'known_whitelist'}, '00Krishani': {'type': 'known_whitelist'}}}, '7': {'person_count': 2, 'vehicle_count': 0, 'frame_time': 'frametime', 'cid': 'cid', 'faces_data': {'00Rashmi': {'type': 'known_whitelist'}, '00Sri_Hari': {'type': 'known_whitelist'}, '00Krishani': {'type': 'known_whitelist'}}}, '8': {'person_count': 2, 'vehicle_count': 0, 'frame_time': 'frametime', 'cid': 'cid', 'faces_data': {'00Rashmi': {'type': 'known_whitelist'}, '00Krishani': {'type': 'known_whitelist'}, '00Sri_Hari': {'type': 'known_whitelist'}}}, '9': {'person_count': 2, 'vehicle_count': 0, 'frame_time': 'frametime', 'cid': 'cid', 'faces_data': {'00Rashmi': {'type': 'known_whitelist'}, '00Krishani': {'type': 'known_whitelist'}, '00Sri_Hari': {'type': 'known_whitelist'}}}, '10': {'person_count': 2, 'vehicle_count': 0, 'frame_time': 'frametime', 'cid': 'cid', 'faces_data': {'00Rashmi': {'type': 'known_whitelist'}, '00Krishani': {'type': 'known_whitelist'}, '00Sri_Hari': {'type': 'known_whitelist'}}}, '11': {'person_count': 2, 'vehicle_count': 0, 'frame_time': 'frametime', 'cid': 'cid', 'faces_data': {'00Rashmi': {'type': 'known_whitelist'}, '00Krishani': {'type': 'known_whitelist'}, '00Sri_Hari': {'type': 'known_whitelist'}}}, '12': {'person_count': 2, 'vehicle_count': 0, 'frame_time': 'frametime', 'cid': 'cid', 'faces_data': {'00Rashmi': {'type': 'known_whitelist'}, '00Krishani': {'type': 'known_whitelist'}, '00Sri_Hari': {'type': 'known_whitelist'}}}, '13': {'person_count': 2, 'vehicle_count': 0, 'frame_time': 'frametime', 'cid': 'cid', 'faces_data': {'00Rashmi': {'type': 'known_whitelist'}, '00Sri_Hari': {'type': 'known_whitelist'}, '00Krishani': {'type': 'known_whitelist'}}}, '14': {'person_count': 2, 'vehicle_count': 0, 'frame_time': 'frametime', 'cid': 'cid', 'faces_data': {'00Rashmi': {'type': 'known_whitelist'}, '00Sri_Hari': {'type': 'known_whitelist'}, '00Krishani': {'type': 'known_whitelist'}}}, '15': {'person_count': 2, 'vehicle_count': 0, 'frame_time': 'frametime', 'cid': 'cid', 'faces_data': {'00Rashmi': {'type': 'known_whitelist'}, '00Sri_Hari': {'type': 'known_whitelist'}, '00Krishani': {'type': 'known_whitelist'}}}, '16': {'person_count': 2, 'vehicle_count': 0, 'frame_time': 'frametime', 'cid': 'cid', 'faces_data': {'00Rashmi': {'type': 'known_whitelist'}, '00Sri_Hari': {'type': 'known_whitelist'}, '00Krishani': {'type': 'known_whitelist'}}}, '17': {'person_count': 2, 'vehicle_count': 0, 'frame_time': 'frametime', 'cid': 'cid', 'faces_data': {'00Rashmi': {'type': 'known_whitelist'}, '00Sri': {'type': 'known_whitelist'}, '00Krishani': {'type': 'known_whitelist'}}}, '18': {'person_count': 2, 'vehicle_count': 0, 'frame_time': 'frametime', 'cid': 'cid', 'faces_data': {'00Rashmi': {'type': 'known_whitelist'}, '00Sri_Hari': {'type': 'known_whitelist'}}}, '20': {'person_count': 2, 'vehicle_count': 19, 'frame_time': 'frametime', 'cid': 'cid', 'faces_data': {'00Rashmi': {'type': 'known_whitelist'}, '00Sri_Hari': {'type': 'known_whitelist'}, '00Krishani': {'type': 'known_whitelist'}}}, '21': {'person_count': 2, 'vehicle_count': 0, 'frame_time': 'frametime', 'cid': 'cid', 'faces_data': {'00Rashmi': {'type': 'known_whitelist'}, '00Sri_Hari': {'type': 'known_whitelist'}, '00Krishani': {'type': 'known_whitelist'}}}, '22': {'person_count': 2, 'vehicle_count': 0, 'frame_time': 'frametime', 'cid': 'cid', 'faces_data': {'00Rashmi': {'type': 'known_whitelist'}, '00Sri_Hari': {'type': 'known_whitelist'}, '00Krishani': {'type': 'known_whitelist'}}}, '23': {'person_count': 2, 'vehicle_count': 0, 'frame_time': 'frametime', 'cid': 'cid', 'faces_data': {'00Sri_Hari': {'type': 'known_whitelist'}, '00Krishani': {'type': 'known_whitelist'}}}, '24': {'person_count': 2, 'vehicle_count': 0, 'frame_time': 'frametime', 'cid': 'cid', 'faces_data': {'00Rashmi': {'type': 'known_whitelist'}, '00Sri_Hari': {'type': 'known_whitelist'}, '00Krishani': {'type': 'known_whitelist'}}}, '25': {'person_count': 2, 'vehicle_count': 0, 'frame_time': 'frametime', 'cid': 'cid', 'faces_data': {'00Rashmi': {'type': 'known_whitelist'}, '00Sri_Hari': {'type': 'known_whitelist'}, '00Krishani': {'type': 'known_whitelist'}}}, '26': {'person_count': 2, 'vehicle_count': 0, 'frame_time': 'frametime', 'cid': 'cid', 'faces_data': {'00Rashmi': {'type': 'known_whitelist'}, '00Sri_Hari': {'type': 'known_whitelist'}, '00Krishani': {'type': 'known_whitelist'}}}, '27': {'person_count': 2, 'vehicle_count': 0, 'frame_time': 'frametime', 'cid': 'cid', 'faces_data': {'00Rashmi': {'type': 'known_whitelist'}, '00Sri_Hari': {'type': 'known_whitelist'}, '00Krishani': {'type': 'known_whitelist'}}}, '28': {'person_count': 2, 'vehicle_count': 0, 'frame_time': 'frametime', 'cid': 'cid', 'faces_data': {'00Rashmi': {'type': 'known_whitelist'}, '00Sri_Hari': {'type': 'known_whitelist'}, '00Krishani': {'type': 'known_whitelist'}}}, '29': {'person_count': 2, 'vehicle_count': 0, 'frame_time': 'frametime', 'cid': 'cid', 'faces_data': {'00Rashmi': {'type': 'known_whitelist'}, '00Sri_Hari': {'type': 'known_whitelist'}, '00Krishani': {'type': 'known_whitelist'}}}, '30': {'person_count': 2, 'vehicle_count': 0, 'frame_time': 'frametime', 'cid': 'cid', 'faces_data': {'00Rashmi': {'type': 'known_whitelist'}, '00Sri_Hari': {'type': 'known_whitelist'}, '00Krishani': {'type': 'known_whitelist'}}}, '31': {'person_count': 2, 'vehicle_count': 0, 'frame_time': 'frametime', 'cid': 'cid', 'faces_data': {'00Rashmi': {'type': 'known_whitelist'}, '00Sri_Hari': {'type': 'known_whitelist'}, '00Krishani': {'type': 'known_whitelist'}}}, '32': {'person_count': 2, 'vehicle_count': 0, 'frame_time': 'frametime', 'cid': 'cid', 'faces_data': {'00Rashmi': {'type': 'known_whitelist'}, '00Sri_Hari': {'type': 'known_whitelist'}}}, '33': {'person_count': 2, 'vehicle_count': 0, 'frame_time': 'frametime', 'cid': 'cid', 'faces_data': {'00Rashmi': {'type': 'known_whitelist'}, '00Sri': {'type': 'known_whitelist'}, '00Krishani': {'type': 'known_whitelist'}}}, '34': {'person_count': 2, 'vehicle_count': 0, 'frame_time': 'frametime', 'cid': 'cid', 'faces_data': {'00Rashmi': {'type': 'known_whitelist'}, '00Sri_Hari': {'type': 'known_whitelist'}, '00Krishani': {'type': 'known_whitelist'}}}, '35': {'person_count': 2, 'vehicle_count': 0, 'frame_time': 'frametime', 'cid': 'cid', 'faces_data': {'00Rashmi': {'type': 'known_whitelist'}, '00Sri_Hari': {'type': 'known_whitelist'}, '00Krishani': {'type': 'known_whitelist'}}}, '36': {'person_count': 2, 'vehicle_count': 0, 'frame_time': 'frametime', 'cid': 'cid', 'faces_data': {'00Rashmi': {'type': 'known_whitelist'}, '00Sri_Hari': {'type': 'known_whitelist'}}}, '37': {'person_count': 2, 'vehicle_count': 0, 'frame_time': 'frametime', 'cid': 'cid', 'faces_data': {'00Sri_Hari': {'type': 'known_whitelist'}, '00Rashmi': {'type': 'known_whitelist'}, '00Krishani': {'type': 'known_whitelist'}}}, '38': {'person_count': 2, 'vehicle_count': 0, 'frame_time': 'frametime', 'cid': 'cid', 'faces_data': {'00Krishani': {'type': 'known_whitelist'}, '00Rashmi': {'type': 'known_whitelist'}, '00Sri_Hari': {'type': 'known_whitelist'}}}, '39': {'person_count': 2, 'vehicle_count': 0, 'frame_time': 'frametime', 'cid': 'cid', 'faces_data': {'00Krishani': {'type': 'known_whitelist'}, '00Rashmi': {'type': 'known_whitelist'}, '00Sri_Hari': {'type': 'known_whitelist'}}}, '40': {'person_count': 2, 'vehicle_count': 0, 'frame_time': 'frametime', 'cid': 'cid', 'faces_data': {'00Rashmi': {'type': 'known_whitelist'}, '00Krishani': {'type': 'known_whitelist'}, '00Sri_Hari': {'type': 'known_whitelist'}}}, '41': {'person_count': 2, 'vehicle_count': 0, 'frame_time': 'frametime', 'cid': 'cid', 'faces_data': {'00Krishani': {'type': 'known_whitelist'}, '00Rashmi': {'type': 'known_whitelist'}, '00Sri_Hari': {'type': 'known_whitelist'}}}, '42': {'person_count': 2, 'vehicle_count': 0, 'frame_time': 'frametime', 'cid': 'cid', 'faces_data': {'00Rashmi': {'type': 'known_whitelist'}, '00Sri': {'type': 'known_whitelist'}, '00Krishani': {'type': 'known_whitelist'}}}, '43': {'person_count': 2, 'vehicle_count': 0, 'frame_time': 'frametime', 'cid': 'cid', 'faces_data': {'00Rashmi': {'type': 'known_whitelist'}, '00Sri_Hari': {'type': 'known_whitelist'}, '00Krishani': {'type': 'known_whitelist'}}}, '44': {'person_count': 2, 'vehicle_count': 0, 'frame_time': 'frametime', 'cid': 'cid', 'faces_data': {'00Rashmi': {'type': 'known_whitelist'}, '00Sri_Hari': {'type': 'known_whitelist'}, '00Krishani': {'type': 'known_whitelist'}}}}}\n"
          ]
        }
      ]
    },
    {
      "cell_type": "markdown",
      "source": [
        "**Write a script encode and decode the json**"
      ],
      "metadata": {
        "id": "7f5_Jb8yIQZ-"
      }
    },
    {
      "cell_type": "code",
      "source": [
        "import json\n",
        "\n",
        "# Sample data to encode into JSON format\n",
        "data = {\n",
        "    \"name\": \"John\",\n",
        "    \"age\": 30,\n",
        "    \"city\": \"New York\"\n",
        "}\n",
        "\n",
        "# Encoding (Python object to JSON string)\n",
        "json_string = json.dumps(data, indent=4)  # The `indent` parameter is optional for pretty-printing\n",
        "\n",
        "# Print the JSON string\n",
        "print(\"Encoded JSON:\")\n",
        "print(json_string)\n",
        "\n",
        "# Decoding (JSON string to Python object)\n",
        "decoded_data = json.loads(json_string)\n",
        "\n",
        "# Print the decoded Python object\n",
        "print(\"\\nDecoded data:\")\n",
        "print(decoded_data)\n",
        "\n",
        "# Ensure that the decoded data matches the original data\n",
        "print(\"\\nIs decoded data same as original data?\", decoded_data == data)\n"
      ],
      "metadata": {
        "colab": {
          "base_uri": "https://localhost:8080/"
        },
        "id": "rqW1ih5TGDYh",
        "outputId": "92fc132b-d52c-45da-dd11-8abe5ed46733"
      },
      "execution_count": null,
      "outputs": [
        {
          "output_type": "stream",
          "name": "stdout",
          "text": [
            "Encoded JSON:\n",
            "{\n",
            "    \"name\": \"John\",\n",
            "    \"age\": 30,\n",
            "    \"city\": \"New York\"\n",
            "}\n",
            "\n",
            "Decoded data:\n",
            "{'name': 'John', 'age': 30, 'city': 'New York'}\n",
            "\n",
            "Is decoded data same as original data? True\n"
          ]
        }
      ]
    },
    {
      "cell_type": "markdown",
      "source": [
        "**Find the total number of videos in json**"
      ],
      "metadata": {
        "id": "Ic_Q4iyRIqkD"
      }
    },
    {
      "cell_type": "code",
      "source": [
        "import json\n",
        "\n",
        "# Assuming the JSON structure has a key \"videos\" that holds a list of video information\n",
        "if \"videos\" in data and isinstance(data[\"videos\"], list):\n",
        "    total_videos = len(data[\"videos\"])\n",
        "    print(\"Total number of videos:\", total_videos)\n",
        "else:\n",
        "    print(\"Invalid or missing 'videos' key in JSON data.\")\n",
        "\n",
        "\n"
      ],
      "metadata": {
        "colab": {
          "base_uri": "https://localhost:8080/"
        },
        "id": "91ZPXMDnIwG_",
        "outputId": "8a513f66-58a6-42fe-e66b-c17be1c63c6d"
      },
      "execution_count": null,
      "outputs": [
        {
          "output_type": "stream",
          "name": "stdout",
          "text": [
            "Invalid or missing 'videos' key in JSON data.\n"
          ]
        }
      ]
    },
    {
      "cell_type": "markdown",
      "source": [
        "**Find how many frames are there for each video and Find the missing frame in each video(if any)**"
      ],
      "metadata": {
        "id": "Tjd4UvUbJw8j"
      }
    },
    {
      "cell_type": "code",
      "source": [
        "import json\n",
        "\n",
        "# Specify the path to the uploaded JSON file\n",
        "json_file_path = '/content/results (1) (2)[3703].txt'  # Change this to the actual file name\n",
        "\n",
        "# Open the JSON file for reading\n",
        "with open(json_file_path, 'r') as json_file:\n",
        "    data = json.load(json_file)\n",
        "\n",
        "# Now you can work with the 'data' variable, which contains the JSON content\n",
        "print(data)\n",
        "# Assuming the JSON structure has a key \"videos\" that holds a list of video information\n",
        "if \"videos\" in data and isinstance(data[\"videos\"], list):\n",
        "    for video in data[\"videos\"]:\n",
        "        video_name = video.get(\"name\", \"Unknown Video\")\n",
        "        frames = video.get(\"frames\", [])\n",
        "\n",
        "        # Count the number of frames for each video\n",
        "        num_frames = len(frames)\n",
        "        print(f\"Video '{video_name}' has {num_frames} frames.\")\n",
        "\n",
        "        # Check for missing frames\n",
        "        if num_frames > 1:\n",
        "            missing_frames = [frame for frame in range(1, num_frames) if frame not in frames]\n",
        "            if missing_frames:\n",
        "                print(f\"Missing frames in '{video_name}':\", missing_frames)\n",
        "            else:\n",
        "                print(f\"No missing frames in '{video_name}'.\")\n",
        "        else:\n",
        "            print(f\"'{video_name}' doesn't have enough frames for comparison.\")\n",
        "else:\n",
        "    print(\"Invalid or missing 'videos' key in JSON data.\")\n"
      ],
      "metadata": {
        "colab": {
          "base_uri": "https://localhost:8080/"
        },
        "id": "PXhSp8yAJSXG",
        "outputId": "c75a4ab9-333d-4e3f-83d1-4bfc72b19d1e"
      },
      "execution_count": null,
      "outputs": [
        {
          "output_type": "stream",
          "name": "stdout",
          "text": [
            "{'36': {'1': {'person_count': 2, 'vehicle_count': 0, 'frame_time': 'frametime', 'cid': 'cid', 'faces_data': {'00Rashmi': {'type': 'known_whitelist'}, '00Krishani': {'type': 'known_whitelist'}, '00Sri': {'type': 'known_whitelist'}}}, '2': {'person_count': 2, 'vehicle_count': 0, 'frame_time': 'frametime', 'cid': 'cid', 'faces_data': {'00Krishani': {'type': 'known_whitelist'}, '00Rashmi': {'type': 'known_whitelist'}, '00Sri': {'type': 'known_whitelist'}}}, '3': {'person_count': 2, 'vehicle_count': 0, 'frame_time': 'frametime', 'cid': 'cid', 'faces_data': {'00Rashmi': {'type': 'known_whitelist'}, '00Krishani': {'type': 'known_whitelist'}, '00Sri_Hari': {'type': 'known_whitelist'}}}, '4': {'person_count': 2, 'vehicle_count': 0, 'frame_time': 'frametime', 'cid': 'cid', 'faces_data': {'00Rashmi': {'type': 'known_whitelist'}, '00Krishani': {'type': 'known_whitelist'}, '00Sri_Hari': {'type': 'known_whitelist'}}}, '5': {'person_count': 2, 'vehicle_count': 0, 'frame_time': 'frametime', 'cid': 'cid', 'faces_data': {'00Rashmi': {'type': 'known_whitelist'}, '00Krishani': {'type': 'known_whitelist'}, '00Sri': {'type': 'known_whitelist'}}}, '6': {'person_count': 2, 'vehicle_count': 0, 'frame_time': 'frametime', 'cid': 'cid', 'faces_data': {'00Rashmi': {'type': 'known_whitelist'}, '00Sri_Hari': {'type': 'known_whitelist'}, '00Krishani': {'type': 'known_whitelist'}}}, '7': {'person_count': 2, 'vehicle_count': 0, 'frame_time': 'frametime', 'cid': 'cid', 'faces_data': {'00Rashmi': {'type': 'known_whitelist'}, '00Sri_Hari': {'type': 'known_whitelist'}, '00Krishani': {'type': 'known_whitelist'}}}, '8': {'person_count': 2, 'vehicle_count': 0, 'frame_time': 'frametime', 'cid': 'cid', 'faces_data': {'00Rashmi': {'type': 'known_whitelist'}, '00Krishani': {'type': 'known_whitelist'}, '00Sri_Hari': {'type': 'known_whitelist'}}}, '9': {'person_count': 2, 'vehicle_count': 0, 'frame_time': 'frametime', 'cid': 'cid', 'faces_data': {'00Rashmi': {'type': 'known_whitelist'}, '00Krishani': {'type': 'known_whitelist'}, '00Sri_Hari': {'type': 'known_whitelist'}}}, '10': {'person_count': 4, 'vehicle_count': 0, 'frame_time': 'frametime', 'cid': 'cid', 'faces_data': {'00Rashmi': {'type': 'known_whitelist'}, '00Krishani': {'type': 'known_whitelist'}, '00Sri': {'type': 'known_whitelist'}}}, '11': {'person_count': 2, 'vehicle_count': 3, 'frame_time': 'frametime', 'cid': 'cid', 'faces_data': {'00Rashmi': {'type': 'known_whitelist'}, '00Krishani': {'type': 'known_whitelist'}, '00Sri_Hari': {'type': 'known_whitelist'}}}, '12': {'person_count': 2, 'vehicle_count': 0, 'frame_time': 'frametime', 'cid': 'cid', 'faces_data': {'00Rashmi': {'type': 'known_whitelist'}, '00Krishani': {'type': 'known_whitelist'}, '00Sri_Hari': {'type': 'known_whitelist'}}}, '13': {'person_count': 2, 'vehicle_count': 0, 'frame_time': 'frametime', 'cid': 'cid', 'faces_data': {'00Rashmi': {'type': 'known_whitelist'}, '00Sri_Hari': {'type': 'known_whitelist'}, '00Krishani': {'type': 'known_whitelist'}}}, '15': {'person_count': 2, 'vehicle_count': 0, 'frame_time': 'frametime', 'cid': 'cid', 'faces_data': {'00Rashmi': {'type': 'known_whitelist'}, '00Sri_Hari': {'type': 'known_whitelist'}, '00Krishani': {'type': 'known_whitelist'}}}, '16': {'person_count': 2, 'vehicle_count': 0, 'frame_time': 'frametime', 'cid': 'cid', 'faces_data': {'00Rashmi': {'type': 'known_whitelist'}, '00Sri': {'type': 'known_whitelist'}, '00Krishani': {'type': 'known_whitelist'}}}, '17': {'person_count': 2, 'vehicle_count': 0, 'frame_time': 'frametime', 'cid': 'cid', 'faces_data': {'00Rashmi': {'type': 'known_whitelist'}, '00Sri_Hari': {'type': 'known_whitelist'}, '00Krishani': {'type': 'known_whitelist'}}}, '18': {'person_count': 2, 'vehicle_count': 0, 'frame_time': 'frametime', 'cid': 'cid', 'faces_data': {'00Rashmi': {'type': 'known_whitelist'}, '00Sri_Hari': {'type': 'known_whitelist'}}}, '19': {'person_count': 2, 'vehicle_count': 0, 'frame_time': 'frametime', 'cid': 'cid', 'faces_data': {'00Rashmi': {'type': 'known_whitelist'}, '00Sri_Hari': {'type': 'known_whitelist'}}}, '20': {'person_count': 2, 'vehicle_count': 0, 'frame_time': 'frametime', 'cid': 'cid', 'faces_data': {'00Rashmi': {'type': 'known_whitelist'}, '00Sri_Hari': {'type': 'known_whitelist'}, '00Krishani': {'type': 'known_whitelist'}}}, '21': {'person_count': 2, 'vehicle_count': 0, 'frame_time': 'frametime', 'cid': 'cid', 'faces_data': {'00Rashmi': {'type': 'known_whitelist'}, '00Sri_Hari': {'type': 'known_whitelist'}, '00Krishani': {'type': 'known_whitelist'}}}, '22': {'person_count': 2, 'vehicle_count': 0, 'frame_time': 'frametime', 'cid': 'cid', 'faces_data': {'00Rashmi': {'type': 'known_whitelist'}, '00Sri_Hari': {'type': 'known_whitelist'}, '00Krishani': {'type': 'known_whitelist'}}}, '23': {'person_count': 2, 'vehicle_count': 0, 'frame_time': 'frametime', 'cid': 'cid', 'faces_data': {'00Rashmi': {'type': 'known_whitelist'}, '00Sri_Hari': {'type': 'known_whitelist'}, '00Krishani': {'type': 'known_whitelist'}}}, '24': {'person_count': 2, 'vehicle_count': 0, 'frame_time': 'frametime', 'cid': 'cid', 'faces_data': {'00Rashmi': {'type': 'known_whitelist'}, '00Sri_Hari': {'type': 'known_whitelist'}, '00Krishani': {'type': 'known_whitelist'}}}, '25': {'person_count': 2, 'vehicle_count': 0, 'frame_time': 'frametime', 'cid': 'cid', 'faces_data': {'00Rashmi': {'type': 'known_whitelist'}, '00Sri_Hari': {'type': 'known_whitelist'}, '00Krishani': {'type': 'known_whitelist'}}}, '26': {'person_count': 2, 'vehicle_count': 0, 'frame_time': 'frametime', 'cid': 'cid', 'faces_data': {'00Rashmi': {'type': 'known_whitelist'}, '00Sri_Hari': {'type': 'known_whitelist'}, '00Krishani': {'type': 'known_whitelist'}}}, '27': {'person_count': 2, 'vehicle_count': 0, 'frame_time': 'frametime', 'cid': 'cid', 'faces_data': {'00Rashmi': {'type': 'known_whitelist'}, '00Sri_Hari': {'type': 'known_whitelist'}, '00Krishani': {'type': 'known_whitelist'}}}, '28': {'person_count': 2, 'vehicle_count': 0, 'frame_time': 'frametime', 'cid': 'cid', 'faces_data': {'00Rashmi': {'type': 'known_whitelist'}, '00Sri_Hari': {'type': 'known_whitelist'}, '00Krishani': {'type': 'known_whitelist'}}}, '29': {'person_count': 2, 'vehicle_count': 0, 'frame_time': 'frametime', 'cid': 'cid', 'faces_data': {'00Rashmi': {'type': 'known_whitelist'}, '00Sri_Hari': {'type': 'known_whitelist'}, '00Krishani': {'type': 'known_whitelist'}}}, '30': {'person_count': 2, 'vehicle_count': 0, 'frame_time': 'frametime', 'cid': 'cid', 'faces_data': {'00Rashmi': {'type': 'known_whitelist'}, '00Sri_Hari': {'type': 'known_whitelist'}, '00Krishani': {'type': 'known_whitelist'}}}, '31': {'person_count': 2, 'vehicle_count': 0, 'frame_time': 'frametime', 'cid': 'cid', 'faces_data': {'00Rashmi': {'type': 'known_whitelist'}, '00Sri_Hari': {'type': 'known_whitelist'}, '00Krishani': {'type': 'known_whitelist'}}}, '32': {'person_count': 2, 'vehicle_count': 0, 'frame_time': 'frametime', 'cid': 'cid', 'faces_data': {'00Rashmi': {'type': 'known_whitelist'}, '00Sri': {'type': 'known_whitelist'}, '00Krishani': {'type': 'known_whitelist'}}}, '33': {'person_count': 2, 'vehicle_count': 0, 'frame_time': 'frametime', 'cid': 'cid', 'faces_data': {'00Rashmi': {'type': 'known_whitelist'}, '00Sri_Hari': {'type': 'known_whitelist'}, '00Krishani': {'type': 'known_whitelist'}}}, '34': {'person_count': 2, 'vehicle_count': 0, 'frame_time': 'frametime', 'cid': 'cid', 'faces_data': {'00Rashmi': {'type': 'known_whitelist'}, '00Sri_Hari': {'type': 'known_whitelist'}, '00Krishani': {'type': 'known_whitelist'}}}, '35': {'person_count': 2, 'vehicle_count': 0, 'frame_time': 'frametime', 'cid': 'cid', 'faces_data': {'00Rashmi': {'type': 'known_whitelist'}, '00Sri_Hari': {'type': 'known_whitelist'}, '00Krishani': {'type': 'known_whitelist'}}}, '36': {'person_count': 2, 'vehicle_count': 0, 'frame_time': 'frametime', 'cid': 'cid', 'faces_data': {'00Rashmi': {'type': 'known_whitelist'}, '00Sri_Hari': {'type': 'known_whitelist'}}}, '37': {'person_count': 2, 'vehicle_count': 0, 'frame_time': 'frametime', 'cid': 'cid', 'faces_data': {'00Sri_Hari': {'type': 'known_whitelist'}, '00Rashmi': {'type': 'known_whitelist'}, '00Krishani': {'type': 'known_whitelist'}}}, '38': {'person_count': 2, 'vehicle_count': 0, 'frame_time': 'frametime', 'cid': 'cid', 'faces_data': {'00Krishani': {'type': 'known_whitelist'}, '00Rashmi': {'type': 'known_whitelist'}, '00Sri_Hari': {'type': 'known_whitelist'}}}, '39': {'person_count': 2, 'vehicle_count': 0, 'frame_time': 'frametime', 'cid': 'cid', 'faces_data': {'00Krishani': {'type': 'known_whitelist'}, '00Rashmi': {'type': 'known_whitelist'}, '00Sri_Hari': {'type': 'known_whitelist'}}}, '40': {'person_count': 2, 'vehicle_count': 0, 'frame_time': 'frametime', 'cid': 'cid', 'faces_data': {'00Rashmi': {'type': 'known_whitelist'}, '00Krishani': {'type': 'known_whitelist'}, '00Sri_Hari': {'type': 'known_whitelist'}}}, '41': {'person_count': 2, 'vehicle_count': 0, 'frame_time': 'frametime', 'cid': 'cid', 'faces_data': {'00Krishani': {'type': 'known_whitelist'}, '00Rashmi': {'type': 'known_whitelist'}, '00Sri_Hari': {'type': 'known_whitelist'}}}, '42': {'person_count': 2, 'vehicle_count': 0, 'frame_time': 'frametime', 'cid': 'cid', 'faces_data': {'00Rashmi': {'type': 'known_whitelist'}, '00Sri_Hari': {'type': 'known_whitelist'}, '00Krishani': {'type': 'known_whitelist'}}}, '43': {'person_count': 2, 'vehicle_count': 0, 'frame_time': 'frametime', 'cid': 'cid', 'faces_data': {'00Rashmi': {'type': 'known_whitelist'}, '00Sri_Hari': {'type': 'known_whitelist'}, '00Krishani': {'type': 'known_whitelist'}}}, '44': {'person_count': 2, 'vehicle_count': 0, 'frame_time': 'frametime', 'cid': 'cid', 'faces_data': {'00Sri': {'type': 'known_whitelist'}, '00Krishani': {'type': 'known_whitelist'}}}}, '18': {'1': {'person_count': 2, 'vehicle_count': 0, 'frame_time': 'frametime', 'cid': 'cid', 'faces_data': {'00Rashmi': {'type': 'known_whitelist'}, '00Krishani': {'type': 'known_whitelist'}, '00Sri_Hari': {'type': 'known_whitelist'}}}, '2': {'person_count': 2, 'vehicle_count': 0, 'frame_time': 'frametime', 'cid': 'cid', 'faces_data': {'00Rashmi': {'type': 'known_whitelist'}, '00Sri_Hari': {'type': 'known_whitelist'}}}, '3': {'person_count': 2, 'vehicle_count': 0, 'frame_time': 'frametime', 'cid': 'cid', 'faces_data': {'00Rashmi': {'type': 'known_whitelist'}, '00Krishani': {'type': 'known_whitelist'}, '00Sri_Hari': {'type': 'known_whitelist'}}}, '4': {'person_count': 2, 'vehicle_count': 0, 'frame_time': 'frametime', 'cid': 'cid', 'faces_data': {'00Rashmi': {'type': 'known_whitelist'}, '00Krishani': {'type': 'known_whitelist'}, '00Sri_Hari': {'type': 'known_whitelist'}}}, '5': {'person_count': 2, 'vehicle_count': 0, 'frame_time': 'frametime', 'cid': 'cid', 'faces_data': {'00Rashmi': {'type': 'known_whitelist'}, '00Krishani': {'type': 'known_whitelist'}, '00Sri_Hari': {'type': 'known_whitelist'}}}, '6': {'person_count': 2, 'vehicle_count': 0, 'frame_time': 'frametime', 'cid': 'cid', 'faces_data': {'00Rashmi': {'type': 'known_whitelist'}, '00Sri_Hari': {'type': 'known_whitelist'}, '00Krishani': {'type': 'known_whitelist'}}}, '7': {'person_count': 2, 'vehicle_count': 0, 'frame_time': 'frametime', 'cid': 'cid', 'faces_data': {'00Rashmi': {'type': 'known_whitelist'}, '00Sri_Hari': {'type': 'known_whitelist'}, '00Krishani': {'type': 'known_whitelist'}}}, '8': {'person_count': 2, 'vehicle_count': 0, 'frame_time': 'frametime', 'cid': 'cid', 'faces_data': {'00Rashmi': {'type': 'known_whitelist'}, '00Krishani': {'type': 'known_whitelist'}, '00Sri_Hari': {'type': 'known_whitelist'}}}, '9': {'person_count': 2, 'vehicle_count': 0, 'frame_time': 'frametime', 'cid': 'cid', 'faces_data': {'00Rashmi': {'type': 'known_whitelist'}, '00Sri': {'type': 'known_whitelist'}}}, '10': {'person_count': 2, 'vehicle_count': 0, 'frame_time': 'frametime', 'cid': 'cid', 'faces_data': {'00Rashmi': {'type': 'known_whitelist'}, '00Krishani': {'type': 'known_whitelist'}, '00Sri_Hari': {'type': 'known_whitelist'}}}, '11': {'person_count': 2, 'vehicle_count': 0, 'frame_time': 'frametime', 'cid': 'cid', 'faces_data': {'00Rashmi': {'type': 'known_whitelist'}, '00Krishani': {'type': 'known_whitelist'}, '00Sri_Hari': {'type': 'known_whitelist'}}}, '12': {'person_count': 2, 'vehicle_count': 5, 'frame_time': 'frametime', 'cid': 'cid', 'faces_data': {'00Rashmi': {'type': 'known_whitelist'}, '00Sri': {'type': 'known_whitelist'}}}, '13': {'person_count': 2, 'vehicle_count': 0, 'frame_time': 'frametime', 'cid': 'cid', 'faces_data': {'00Rashmi': {'type': 'known_whitelist'}, '00Sri_Hari': {'type': 'known_whitelist'}, '00Krishani': {'type': 'known_whitelist'}}}, '14': {'person_count': 2, 'vehicle_count': 0, 'frame_time': 'frametime', 'cid': 'cid', 'faces_data': {'00Rashmi': {'type': 'known_whitelist'}, '00Sri_Hari': {'type': 'known_whitelist'}, '00Krishani': {'type': 'known_whitelist'}}}, '16': {'person_count': 2, 'vehicle_count': 0, 'frame_time': 'frametime', 'cid': 'cid', 'faces_data': {'00Rashmi': {'type': 'known_whitelist'}, '00Sri_Hari': {'type': 'known_whitelist'}, '00Krishani': {'type': 'known_whitelist'}}}, '17': {'person_count': 2, 'vehicle_count': 0, 'frame_time': 'frametime', 'cid': 'cid', 'faces_data': {'00Rashmi': {'type': 'known_whitelist'}, '00Sri': {'type': 'known_whitelist'}, '00Krishani': {'type': 'known_whitelist'}}}, '18': {'person_count': 2, 'vehicle_count': 0, 'frame_time': 'frametime', 'cid': 'cid', 'faces_data': {'00Rashmi': {'type': 'known_whitelist'}, '00Sri_Hari': {'type': 'known_whitelist'}}}, '19': {'person_count': 2, 'vehicle_count': 0, 'frame_time': 'frametime', 'cid': 'cid', 'faces_data': {'00Rashmi': {'type': 'known_whitelist'}, '00Sri_Hari': {'type': 'known_whitelist'}}}, '20': {'person_count': 2, 'vehicle_count': 0, 'frame_time': 'frametime', 'cid': 'cid', 'faces_data': {'00Rashmi': {'type': 'known_whitelist'}, '00Sri_Hari': {'type': 'known_whitelist'}, '00Krishani': {'type': 'known_whitelist'}}}, '21': {'person_count': 2, 'vehicle_count': 0, 'frame_time': 'frametime', 'cid': 'cid', 'faces_data': {'00Rashmi': {'type': 'known_whitelist'}, '00Sri_Hari': {'type': 'known_whitelist'}, '00Krishani': {'type': 'known_whitelist'}}}, '22': {'person_count': 2, 'vehicle_count': 0, 'frame_time': 'frametime', 'cid': 'cid', 'faces_data': {'00Rashmi': {'type': 'known_whitelist'}, '00Sri_Hari': {'type': 'known_whitelist'}, '00Krishani': {'type': 'known_whitelist'}}}, '23': {'person_count': 2, 'vehicle_count': 0, 'frame_time': 'frametime', 'cid': 'cid', 'faces_data': {'00Rashmi': {'type': 'known_whitelist'}, '00Sri_Hari': {'type': 'known_whitelist'}, '00Krishani': {'type': 'known_whitelist'}}}, '24': {'person_count': 2, 'vehicle_count': 0, 'frame_time': 'frametime', 'cid': 'cid', 'faces_data': {'00Rashmi': {'type': 'known_whitelist'}, '00Sri': {'type': 'known_whitelist'}, '00Krishani': {'type': 'known_whitelist'}}}, '25': {'person_count': 2, 'vehicle_count': 0, 'frame_time': 'frametime', 'cid': 'cid', 'faces_data': {'00Rashmi': {'type': 'known_whitelist'}, '00Sri': {'type': 'known_whitelist'}, '00Krishani': {'type': 'known_whitelist'}}}, '26': {'person_count': 2, 'vehicle_count': 0, 'frame_time': 'frametime', 'cid': 'cid', 'faces_data': {'00Rashmi': {'type': 'known_whitelist'}, '00Sri': {'type': 'known_whitelist'}, '00Krishani': {'type': 'known_whitelist'}}}, '27': {'person_count': 2, 'vehicle_count': 0, 'frame_time': 'frametime', 'cid': 'cid', 'faces_data': {'00Rashmi': {'type': 'known_whitelist'}, '00Sri_Hari': {'type': 'known_whitelist'}, '00Krishani': {'type': 'known_whitelist'}}}, '28': {'person_count': 2, 'vehicle_count': 0, 'frame_time': 'frametime', 'cid': 'cid', 'faces_data': {'00Rashmi': {'type': 'known_whitelist'}, '00Sri_Hari': {'type': 'known_whitelist'}, '00Krishani': {'type': 'known_whitelist'}}}, '29': {'person_count': 2, 'vehicle_count': 0, 'frame_time': 'frametime', 'cid': 'cid', 'faces_data': {'00Rashmi': {'type': 'known_whitelist'}, '00Sri_Hari': {'type': 'known_whitelist'}, '00Krishani': {'type': 'known_whitelist'}}}, '30': {'person_count': 2, 'vehicle_count': 0, 'frame_time': 'frametime', 'cid': 'cid', 'faces_data': {'00Rashmi': {'type': 'known_whitelist'}, '00Sri_Hari': {'type': 'known_whitelist'}, '00Krishani': {'type': 'known_whitelist'}}}, '31': {'person_count': 2, 'vehicle_count': 0, 'frame_time': 'frametime', 'cid': 'cid', 'faces_data': {'00Rashmi': {'type': 'known_whitelist'}, '00Sri_Hari': {'type': 'known_whitelist'}, '00Krishani': {'type': 'known_whitelist'}}}, '32': {'person_count': 2, 'vehicle_count': 0, 'frame_time': 'frametime', 'cid': 'cid', 'faces_data': {'00Rashmi': {'type': 'known_whitelist'}, '00Sri_Hari': {'type': 'known_whitelist'}, '00Krishani': {'type': 'known_whitelist'}}}, '33': {'person_count': 2, 'vehicle_count': 2, 'frame_time': 'frametime', 'cid': 'cid', 'faces_data': {'00Rashmi': {'type': 'known_whitelist'}, '00Sri_Hari': {'type': 'known_whitelist'}, '00Krishani': {'type': 'known_whitelist'}}}, '34': {'person_count': 2, 'vehicle_count': 0, 'frame_time': 'frametime', 'cid': 'cid', 'faces_data': {'00Rashmi': {'type': 'known_whitelist'}, '00Sri_Hari': {'type': 'known_whitelist'}, '00Krishani': {'type': 'known_whitelist'}}}, '35': {'person_count': 2, 'vehicle_count': 0, 'frame_time': 'frametime', 'cid': 'cid', 'faces_data': {'00Rashmi': {'type': 'known_whitelist'}, '00Sri_Hari': {'type': 'known_whitelist'}, '00Krishani': {'type': 'known_whitelist'}}}, '36': {'person_count': 2, 'vehicle_count': 0, 'frame_time': 'frametime', 'cid': 'cid', 'faces_data': {'00Rashmi': {'type': 'known_whitelist'}, '00Sri_Hari': {'type': 'known_whitelist'}}}, '37': {'person_count': 2, 'vehicle_count': 0, 'frame_time': 'frametime', 'cid': 'cid', 'faces_data': {'00Sri_Hari': {'type': 'known_whitelist'}, '00Rashmi': {'type': 'known_whitelist'}, '00Krishani': {'type': 'known_whitelist'}}}, '38': {'person_count': 2, 'vehicle_count': 0, 'frame_time': 'frametime', 'cid': 'cid', 'faces_data': {'00Krishani': {'type': 'known_whitelist'}, '00Rashmi': {'type': 'known_whitelist'}, '00Sri_Hari': {'type': 'known_whitelist'}}}, '39': {'person_count': 2, 'vehicle_count': 0, 'frame_time': 'frametime', 'cid': 'cid', 'faces_data': {'00Krishani': {'type': 'known_whitelist'}, '00Rashmi': {'type': 'known_whitelist'}, '00Sri_Hari': {'type': 'known_whitelist'}}}, '40': {'person_count': 2, 'vehicle_count': 0, 'frame_time': 'frametime', 'cid': 'cid', 'faces_data': {'00Rashmi': {'type': 'known_whitelist'}, '00Krishani': {'type': 'known_whitelist'}, '00Sri_Hari': {'type': 'known_whitelist'}}}, '41': {'person_count': 2, 'vehicle_count': 0, 'frame_time': 'frametime', 'cid': 'cid', 'faces_data': {'00Krishani': {'type': 'known_whitelist'}, '00Rashmi': {'type': 'known_whitelist'}, '00Sri_Hari': {'type': 'known_whitelist'}}}, '42': {'person_count': 2, 'vehicle_count': 0, 'frame_time': 'frametime', 'cid': 'cid', 'faces_data': {'00Rashmi': {'type': 'known_whitelist'}, '00Sri_Hari': {'type': 'known_whitelist'}, '00Krishani': {'type': 'known_whitelist'}}}, '43': {'person_count': 2, 'vehicle_count': 0, 'frame_time': 'frametime', 'cid': 'cid', 'faces_data': {'00Rashmi': {'type': 'known_whitelist'}, '00Sri_Hari': {'type': 'known_whitelist'}, '00Krishani': {'type': 'known_whitelist'}}}, '44': {'person_count': 2, 'vehicle_count': 0, 'frame_time': 'frametime', 'cid': 'cid', 'faces_data': {'00Rashmi': {'type': 'known_whitelist'}, '00Sri_Hari': {'type': 'known_whitelist'}, '00Krishani': {'type': 'known_whitelist'}}}}, '8': {'1': {'person_count': 2, 'vehicle_count': 0, 'frame_time': 'frametime', 'cid': 'cid', 'faces_data': {'00Rashmi': {'type': 'known_whitelist'}, '00Krishani': {'type': 'known_whitelist'}, '00Sri_Hari': {'type': 'known_whitelist'}}}, '2': {'person_count': 2, 'vehicle_count': 0, 'frame_time': 'frametime', 'cid': 'cid', 'faces_data': {'00Krishani': {'type': 'known_whitelist'}, '00Rashmi': {'type': 'known_whitelist'}, '00Sri_Hari': {'type': 'known_whitelist'}}}, '3': {'person_count': 2, 'vehicle_count': 0, 'frame_time': 'frametime', 'cid': 'cid', 'faces_data': {'00Rashmi': {'type': 'known_whitelist'}, '00Krishani': {'type': 'known_whitelist'}, '00Sri_Hari': {'type': 'known_whitelist'}}}, '4': {'person_count': 2, 'vehicle_count': 0, 'frame_time': 'frametime', 'cid': 'cid', 'faces_data': {'00Rashmi': {'type': 'known_whitelist'}, '00Krishani': {'type': 'known_whitelist'}, '00Sri_Hari': {'type': 'known_whitelist'}}}, '5': {'person_count': 2, 'vehicle_count': 0, 'frame_time': 'frametime', 'cid': 'cid', 'faces_data': {'00Rashmi': {'type': 'known_whitelist'}, '00Krishani': {'type': 'known_whitelist'}, '00Sri_Hari': {'type': 'known_whitelist'}}}, '6': {'person_count': 2, 'vehicle_count': 0, 'frame_time': 'frametime', 'cid': 'cid', 'faces_data': {'00Rashmi': {'type': 'known_whitelist'}, '00Sri_Hari': {'type': 'known_whitelist'}, '00Krishani': {'type': 'known_whitelist'}}}, '7': {'person_count': 2, 'vehicle_count': 0, 'frame_time': 'frametime', 'cid': 'cid', 'faces_data': {'00Rashmi': {'type': 'known_whitelist'}, '00Sri_Hari': {'type': 'known_whitelist'}, '00Krishani': {'type': 'known_whitelist'}}}, '8': {'person_count': 2, 'vehicle_count': 0, 'frame_time': 'frametime', 'cid': 'cid', 'faces_data': {'00Rashmi': {'type': 'known_whitelist'}, '00Krishani': {'type': 'known_whitelist'}, '00Sri_Hari': {'type': 'known_whitelist'}}}, '9': {'person_count': 2, 'vehicle_count': 0, 'frame_time': 'frametime', 'cid': 'cid', 'faces_data': {'00Rashmi': {'type': 'known_whitelist'}, '00Krishani': {'type': 'known_whitelist'}, '00Sri_Hari': {'type': 'known_whitelist'}}}, '10': {'person_count': 2, 'vehicle_count': 0, 'frame_time': 'frametime', 'cid': 'cid', 'faces_data': {'00Rashmi': {'type': 'known_whitelist'}, '00Krishani': {'type': 'known_whitelist'}, '00Sri_Hari': {'type': 'known_whitelist'}}}, '11': {'person_count': 2, 'vehicle_count': 0, 'frame_time': 'frametime', 'cid': 'cid', 'faces_data': {'00Rashmi': {'type': 'known_whitelist'}, '00Krishani': {'type': 'known_whitelist'}, '00Sri_Hari': {'type': 'known_whitelist'}}}, '12': {'person_count': 2, 'vehicle_count': 0, 'frame_time': 'frametime', 'cid': 'cid', 'faces_data': {'00Rashmi': {'type': 'known_whitelist'}, '00Krishani': {'type': 'known_whitelist'}, '00Sri_Hari': {'type': 'known_whitelist'}}}, '13': {'person_count': 2, 'vehicle_count': 0, 'frame_time': 'frametime', 'cid': 'cid', 'faces_data': {'00Rashmi': {'type': 'known_whitelist'}, '00Sri_Hari': {'type': 'known_whitelist'}, '00Krishani': {'type': 'known_whitelist'}}}, '14': {'person_count': 2, 'vehicle_count': 10, 'frame_time': 'frametime', 'cid': 'cid', 'faces_data': {'00Rashmi': {'type': 'known_whitelist'}, '00Sri_Nithi': {'type': 'known_blacklist'}, '00Krishani': {'type': 'known_whitelist'}}}, '15': {'person_count': 2, 'vehicle_count': 0, 'frame_time': 'frametime', 'cid': 'cid', 'faces_data': {'00Rashmi': {'type': 'known_whitelist'}, '00Sri_Hari': {'type': 'known_whitelist'}, '00Krishani': {'type': 'known_whitelist'}}}, '17': {'person_count': 2, 'vehicle_count': 0, 'frame_time': 'frametime', 'cid': 'cid', 'faces_data': {'00Rashmi': {'type': 'known_whitelist'}, '00Sri_Hari': {'type': 'known_whitelist'}, '00Krishani': {'type': 'known_whitelist'}}}, '18': {'person_count': 2, 'vehicle_count': 0, 'frame_time': 'frametime', 'cid': 'cid', 'faces_data': {'00Rashmi': {'type': 'known_whitelist'}, '00Sri_Hari': {'type': 'known_whitelist'}}}, '19': {'person_count': 2, 'vehicle_count': 0, 'frame_time': 'frametime', 'cid': 'cid', 'faces_data': {'00Rashmi': {'type': 'known_whitelist'}, '00Sri_Hari': {'type': 'known_whitelist'}}}, '20': {'person_count': 2, 'vehicle_count': 0, 'frame_time': 'frametime', 'cid': 'cid', 'faces_data': {'00Rashmi': {'type': 'known_whitelist'}, '00Sri_Hari': {'type': 'known_whitelist'}, '00Krishani': {'type': 'known_whitelist'}}}, '21': {'person_count': 2, 'vehicle_count': 0, 'frame_time': 'frametime', 'cid': 'cid', 'faces_data': {'00Rashmi': {'type': 'known_whitelist'}, '00Sri_Hari': {'type': 'known_whitelist'}, '00Krishani': {'type': 'known_whitelist'}}}, '22': {'person_count': 2, 'vehicle_count': 0, 'frame_time': 'frametime', 'cid': 'cid', 'faces_data': {'00Rashmi': {'type': 'known_whitelist'}, '00Sri_Hari': {'type': 'known_whitelist'}, '00Krishani': {'type': 'known_whitelist'}}}, '23': {'person_count': 2, 'vehicle_count': 1, 'frame_time': 'frametime', 'cid': 'cid', 'faces_data': {'00Rashmi': {'type': 'known_whitelist'}, '00Sri_Hari': {'type': 'known_whitelist'}, '00Krishani': {'type': 'known_whitelist'}}}, '24': {'person_count': 2, 'vehicle_count': 0, 'frame_time': 'frametime', 'cid': 'cid', 'faces_data': {'00Rashmi': {'type': 'known_whitelist'}, '00Sri_Hari': {'type': 'known_whitelist'}, '00Krishani': {'type': 'known_whitelist'}}}, '25': {'person_count': 2, 'vehicle_count': 0, 'frame_time': 'frametime', 'cid': 'cid', 'faces_data': {'00Rashmi': {'type': 'known_whitelist'}, '00Sri_Hari': {'type': 'known_whitelist'}, '00Krishani': {'type': 'known_whitelist'}}}, '26': {'person_count': 2, 'vehicle_count': 0, 'frame_time': 'frametime', 'cid': 'cid', 'faces_data': {'00Rashmi': {'type': 'known_whitelist'}, '00Sri_Hari': {'type': 'known_whitelist'}, '00Krishani': {'type': 'known_whitelist'}}}, '27': {'person_count': 2, 'vehicle_count': 0, 'frame_time': 'frametime', 'cid': 'cid', 'faces_data': {'00Rashmi': {'type': 'known_whitelist'}, '00Sri_Hari': {'type': 'known_whitelist'}, '00Krishani': {'type': 'known_whitelist'}}}, '28': {'person_count': 2, 'vehicle_count': 0, 'frame_time': 'frametime', 'cid': 'cid', 'faces_data': {'00Rashmi': {'type': 'known_whitelist'}, '00Sri_Hari': {'type': 'known_whitelist'}, '00Krishani': {'type': 'known_whitelist'}}}, '29': {'person_count': 2, 'vehicle_count': 0, 'frame_time': 'frametime', 'cid': 'cid', 'faces_data': {'00Rashmi': {'type': 'known_whitelist'}, '00Sri_Hari': {'type': 'known_whitelist'}, '00Krishani': {'type': 'known_whitelist'}}}, '30': {'person_count': 2, 'vehicle_count': 0, 'frame_time': 'frametime', 'cid': 'cid', 'faces_data': {'00Rashmi': {'type': 'known_whitelist'}, '00Sri_Hari': {'type': 'known_whitelist'}, '00Krishani': {'type': 'known_whitelist'}}}, '31': {'person_count': 2, 'vehicle_count': 0, 'frame_time': 'frametime', 'cid': 'cid', 'faces_data': {'00Rashmi': {'type': 'known_whitelist'}, '00Sri_Hari': {'type': 'known_whitelist'}, '00Krishani': {'type': 'known_whitelist'}}}, '32': {'person_count': 2, 'vehicle_count': 0, 'frame_time': 'frametime', 'cid': 'cid', 'faces_data': {'00Rashmi': {'type': 'known_whitelist'}, '00Sri_Hari': {'type': 'known_whitelist'}, '00Krishani': {'type': 'known_whitelist'}}}, '33': {'person_count': 2, 'vehicle_count': 0, 'frame_time': 'frametime', 'cid': 'cid', 'faces_data': {'00Rashmi': {'type': 'known_whitelist'}, '00Sri_Hari': {'type': 'known_whitelist'}, '00Krishani': {'type': 'known_whitelist'}}}, '34': {'person_count': 2, 'vehicle_count': 0, 'frame_time': 'frametime', 'cid': 'cid', 'faces_data': {'00Rashmi': {'type': 'known_whitelist'}, '00Sri_Hari': {'type': 'known_whitelist'}, '00Krishani': {'type': 'known_whitelist'}}}, '35': {'person_count': 2, 'vehicle_count': 0, 'frame_time': 'frametime', 'cid': 'cid', 'faces_data': {'00Rashmi': {'type': 'known_whitelist'}, '00Sri_Hari': {'type': 'known_whitelist'}, '00Krishani': {'type': 'known_whitelist'}}}, '36': {'person_count': 2, 'vehicle_count': 0, 'frame_time': 'frametime', 'cid': 'cid', 'faces_data': {'00Rashmi': {'type': 'known_whitelist'}, '00Sri_Hari': {'type': 'known_whitelist'}}}, '37': {'person_count': 2, 'vehicle_count': 0, 'frame_time': 'frametime', 'cid': 'cid', 'faces_data': {'00Sri_Hari': {'type': 'known_whitelist'}, '00Rashmi': {'type': 'known_whitelist'}, '00Krishani': {'type': 'known_whitelist'}}}, '38': {'person_count': 2, 'vehicle_count': 0, 'frame_time': 'frametime', 'cid': 'cid', 'faces_data': {'00Krishani': {'type': 'known_whitelist'}, '00Rashmi': {'type': 'known_whitelist'}, '00Sri_Hari': {'type': 'known_whitelist'}}}, '39': {'person_count': 2, 'vehicle_count': 0, 'frame_time': 'frametime', 'cid': 'cid', 'faces_data': {'00Krishani': {'type': 'known_whitelist'}, '00Rashmi': {'type': 'known_whitelist'}, '00Sri_Hari': {'type': 'known_whitelist'}}}, '40': {'person_count': 2, 'vehicle_count': 0, 'frame_time': 'frametime', 'cid': 'cid', 'faces_data': {'00Rashmi': {'type': 'known_whitelist'}, '00Krishani': {'type': 'known_whitelist'}, '00Sri_Hari': {'type': 'known_whitelist'}}}, '41': {'person_count': 2, 'vehicle_count': 0, 'frame_time': 'frametime', 'cid': 'cid', 'faces_data': {'00Krishani': {'type': 'known_whitelist'}, '00Rashmi': {'type': 'known_whitelist'}, '00Sri_Hari': {'type': 'known_whitelist'}}}, '42': {'person_count': 2, 'vehicle_count': 0, 'frame_time': 'frametime', 'cid': 'cid', 'faces_data': {'00Rashmi': {'type': 'known_whitelist'}, '00Sri_Hari': {'type': 'known_whitelist'}, '00Krishani': {'type': 'known_whitelist'}}}, '43': {'person_count': 2, 'vehicle_count': 0, 'frame_time': 'frametime', 'cid': 'cid', 'faces_data': {'00Rashmi': {'type': 'known_whitelist'}, '00Sri_Hari': {'type': 'known_whitelist'}, '00Krishani': {'type': 'known_whitelist'}}}, '44': {'person_count': 2, 'vehicle_count': 0, 'frame_time': 'frametime', 'cid': 'cid', 'faces_data': {'00Rashmi': {'type': 'known_whitelist'}, '00Sri_Hari': {'type': 'known_whitelist'}, '00Krishani': {'type': 'known_whitelist'}}}}, '1': {'1': {'person_count': 2, 'vehicle_count': 0, 'frame_time': 'frametime', 'cid': 'cid', 'faces_data': {'00Rashmi': {'type': 'known_whitelist'}, '00Krishani': {'type': 'known_whitelist'}, '00Sri_Hari': {'type': 'known_whitelist'}}}, '2': {'person_count': 2, 'vehicle_count': 0, 'frame_time': 'frametime', 'cid': 'cid', 'faces_data': {'00Krishani': {'type': 'known_whitelist'}, '00Rashmi': {'type': 'known_whitelist'}, '00Sri_Hari': {'type': 'known_whitelist'}}}, '3': {'person_count': 2, 'vehicle_count': 0, 'frame_time': 'frametime', 'cid': 'cid', 'faces_data': {'00Rashmi': {'type': 'known_whitelist'}, '00Krishani': {'type': 'known_whitelist'}, '00Sri_Hari': {'type': 'known_whitelist'}}}, '4': {'person_count': 2, 'vehicle_count': 0, 'frame_time': 'frametime', 'cid': 'cid', 'faces_data': {'00Rashmi': {'type': 'known_whitelist'}, '00Krishani': {'type': 'known_whitelist'}, '00Sri_Hari': {'type': 'known_whitelist'}}}, '5': {'person_count': 2, 'vehicle_count': 0, 'frame_time': 'frametime', 'cid': 'cid', 'faces_data': {'00Rashmi': {'type': 'known_whitelist'}, '00Krishani': {'type': 'known_whitelist'}, '00Sri_Hari': {'type': 'known_whitelist'}}}, '6': {'person_count': 2, 'vehicle_count': 0, 'frame_time': 'frametime', 'cid': 'cid', 'faces_data': {'00Rashmi': {'type': 'known_whitelist'}, '00Sri_Hari': {'type': 'known_whitelist'}, '00Krishani': {'type': 'known_whitelist'}}}, '7': {'person_count': 2, 'vehicle_count': 0, 'frame_time': 'frametime', 'cid': 'cid', 'faces_data': {'00Rashmi': {'type': 'known_whitelist'}, '00Sri_Hari': {'type': 'known_whitelist'}, '00Krishani': {'type': 'known_whitelist'}}}, '8': {'person_count': 2, 'vehicle_count': 0, 'frame_time': 'frametime', 'cid': 'cid', 'faces_data': {'00Rashmi': {'type': 'known_whitelist'}, '00Krishani': {'type': 'known_whitelist'}, '00Sri_Hari': {'type': 'known_whitelist'}}}, '9': {'person_count': 2, 'vehicle_count': 0, 'frame_time': 'frametime', 'cid': 'cid', 'faces_data': {'00Rashmi': {'type': 'known_whitelist'}, '00Krishani': {'type': 'known_whitelist'}, '00Sri_Hari': {'type': 'known_whitelist'}}}, '10': {'person_count': 2, 'vehicle_count': 0, 'frame_time': 'frametime', 'cid': 'cid', 'faces_data': {'00Rashmi': {'type': 'known_whitelist'}, '00Krishani': {'type': 'known_whitelist'}, '00Sri_Hari': {'type': 'known_whitelist'}}}, '11': {'person_count': 2, 'vehicle_count': 0, 'frame_time': 'frametime', 'cid': 'cid', 'faces_data': {'00Rashmi': {'type': 'known_whitelist'}, '00Krishani': {'type': 'known_whitelist'}, '00Sri_Hari': {'type': 'known_whitelist'}}}, '12': {'person_count': 2, 'vehicle_count': 0, 'frame_time': 'frametime', 'cid': 'cid', 'faces_data': {'00Rashmi': {'type': 'known_whitelist'}, '00Krishani': {'type': 'known_whitelist'}, '00Sri_Hari': {'type': 'known_whitelist'}}}, '13': {'person_count': 2, 'vehicle_count': 0, 'frame_time': 'frametime', 'cid': 'cid', 'faces_data': {'00Rashmi': {'type': 'known_whitelist'}, '00Sri_Hari': {'type': 'known_whitelist'}, '00Krishani': {'type': 'known_whitelist'}}}, '14': {'person_count': 2, 'vehicle_count': 0, 'frame_time': 'frametime', 'cid': 'cid', 'faces_data': {'00Rashmi': {'type': 'known_whitelist'}, '00Sri_Hari': {'type': 'known_whitelist'}, '00Krishani': {'type': 'known_whitelist'}}}, '15': {'person_count': 2, 'vehicle_count': 0, 'frame_time': 'frametime', 'cid': 'cid', 'faces_data': {'00Rashmi': {'type': 'known_whitelist'}, '00Sri_Hari': {'type': 'known_whitelist'}, '00Krishani': {'type': 'known_whitelist'}}}, '16': {'person_count': 2, 'vehicle_count': 0, 'frame_time': 'frametime', 'cid': 'cid', 'faces_data': {'00Rashmi': {'type': 'known_whitelist'}, '00Sri_Hari': {'type': 'known_whitelist'}, '00Krishani': {'type': 'known_whitelist'}}}, '17': {'person_count': 2, 'vehicle_count': 0, 'frame_time': 'frametime', 'cid': 'cid', 'faces_data': {'00Rashmi': {'type': 'known_whitelist'}, '00Sri': {'type': 'known_whitelist'}, '00Krishani': {'type': 'known_whitelist'}}}, '18': {'person_count': 2, 'vehicle_count': 0, 'frame_time': 'frametime', 'cid': 'cid', 'faces_data': {'00Rashmi': {'type': 'known_whitelist'}, '00Sri_Hari': {'type': 'known_whitelist'}}}, '20': {'person_count': 2, 'vehicle_count': 19, 'frame_time': 'frametime', 'cid': 'cid', 'faces_data': {'00Rashmi': {'type': 'known_whitelist'}, '00Sri_Hari': {'type': 'known_whitelist'}, '00Krishani': {'type': 'known_whitelist'}}}, '21': {'person_count': 2, 'vehicle_count': 0, 'frame_time': 'frametime', 'cid': 'cid', 'faces_data': {'00Rashmi': {'type': 'known_whitelist'}, '00Sri_Hari': {'type': 'known_whitelist'}, '00Krishani': {'type': 'known_whitelist'}}}, '22': {'person_count': 2, 'vehicle_count': 0, 'frame_time': 'frametime', 'cid': 'cid', 'faces_data': {'00Rashmi': {'type': 'known_whitelist'}, '00Sri_Hari': {'type': 'known_whitelist'}, '00Krishani': {'type': 'known_whitelist'}}}, '23': {'person_count': 2, 'vehicle_count': 0, 'frame_time': 'frametime', 'cid': 'cid', 'faces_data': {'00Sri_Hari': {'type': 'known_whitelist'}, '00Krishani': {'type': 'known_whitelist'}}}, '24': {'person_count': 2, 'vehicle_count': 0, 'frame_time': 'frametime', 'cid': 'cid', 'faces_data': {'00Rashmi': {'type': 'known_whitelist'}, '00Sri_Hari': {'type': 'known_whitelist'}, '00Krishani': {'type': 'known_whitelist'}}}, '25': {'person_count': 2, 'vehicle_count': 0, 'frame_time': 'frametime', 'cid': 'cid', 'faces_data': {'00Rashmi': {'type': 'known_whitelist'}, '00Sri_Hari': {'type': 'known_whitelist'}, '00Krishani': {'type': 'known_whitelist'}}}, '26': {'person_count': 2, 'vehicle_count': 0, 'frame_time': 'frametime', 'cid': 'cid', 'faces_data': {'00Rashmi': {'type': 'known_whitelist'}, '00Sri_Hari': {'type': 'known_whitelist'}, '00Krishani': {'type': 'known_whitelist'}}}, '27': {'person_count': 2, 'vehicle_count': 0, 'frame_time': 'frametime', 'cid': 'cid', 'faces_data': {'00Rashmi': {'type': 'known_whitelist'}, '00Sri_Hari': {'type': 'known_whitelist'}, '00Krishani': {'type': 'known_whitelist'}}}, '28': {'person_count': 2, 'vehicle_count': 0, 'frame_time': 'frametime', 'cid': 'cid', 'faces_data': {'00Rashmi': {'type': 'known_whitelist'}, '00Sri_Hari': {'type': 'known_whitelist'}, '00Krishani': {'type': 'known_whitelist'}}}, '29': {'person_count': 2, 'vehicle_count': 0, 'frame_time': 'frametime', 'cid': 'cid', 'faces_data': {'00Rashmi': {'type': 'known_whitelist'}, '00Sri_Hari': {'type': 'known_whitelist'}, '00Krishani': {'type': 'known_whitelist'}}}, '30': {'person_count': 2, 'vehicle_count': 0, 'frame_time': 'frametime', 'cid': 'cid', 'faces_data': {'00Rashmi': {'type': 'known_whitelist'}, '00Sri_Hari': {'type': 'known_whitelist'}, '00Krishani': {'type': 'known_whitelist'}}}, '31': {'person_count': 2, 'vehicle_count': 0, 'frame_time': 'frametime', 'cid': 'cid', 'faces_data': {'00Rashmi': {'type': 'known_whitelist'}, '00Sri_Hari': {'type': 'known_whitelist'}, '00Krishani': {'type': 'known_whitelist'}}}, '32': {'person_count': 2, 'vehicle_count': 0, 'frame_time': 'frametime', 'cid': 'cid', 'faces_data': {'00Rashmi': {'type': 'known_whitelist'}, '00Sri_Hari': {'type': 'known_whitelist'}}}, '33': {'person_count': 2, 'vehicle_count': 0, 'frame_time': 'frametime', 'cid': 'cid', 'faces_data': {'00Rashmi': {'type': 'known_whitelist'}, '00Sri': {'type': 'known_whitelist'}, '00Krishani': {'type': 'known_whitelist'}}}, '34': {'person_count': 2, 'vehicle_count': 0, 'frame_time': 'frametime', 'cid': 'cid', 'faces_data': {'00Rashmi': {'type': 'known_whitelist'}, '00Sri_Hari': {'type': 'known_whitelist'}, '00Krishani': {'type': 'known_whitelist'}}}, '35': {'person_count': 2, 'vehicle_count': 0, 'frame_time': 'frametime', 'cid': 'cid', 'faces_data': {'00Rashmi': {'type': 'known_whitelist'}, '00Sri_Hari': {'type': 'known_whitelist'}, '00Krishani': {'type': 'known_whitelist'}}}, '36': {'person_count': 2, 'vehicle_count': 0, 'frame_time': 'frametime', 'cid': 'cid', 'faces_data': {'00Rashmi': {'type': 'known_whitelist'}, '00Sri_Hari': {'type': 'known_whitelist'}}}, '37': {'person_count': 2, 'vehicle_count': 0, 'frame_time': 'frametime', 'cid': 'cid', 'faces_data': {'00Sri_Hari': {'type': 'known_whitelist'}, '00Rashmi': {'type': 'known_whitelist'}, '00Krishani': {'type': 'known_whitelist'}}}, '38': {'person_count': 2, 'vehicle_count': 0, 'frame_time': 'frametime', 'cid': 'cid', 'faces_data': {'00Krishani': {'type': 'known_whitelist'}, '00Rashmi': {'type': 'known_whitelist'}, '00Sri_Hari': {'type': 'known_whitelist'}}}, '39': {'person_count': 2, 'vehicle_count': 0, 'frame_time': 'frametime', 'cid': 'cid', 'faces_data': {'00Krishani': {'type': 'known_whitelist'}, '00Rashmi': {'type': 'known_whitelist'}, '00Sri_Hari': {'type': 'known_whitelist'}}}, '40': {'person_count': 2, 'vehicle_count': 0, 'frame_time': 'frametime', 'cid': 'cid', 'faces_data': {'00Rashmi': {'type': 'known_whitelist'}, '00Krishani': {'type': 'known_whitelist'}, '00Sri_Hari': {'type': 'known_whitelist'}}}, '41': {'person_count': 2, 'vehicle_count': 0, 'frame_time': 'frametime', 'cid': 'cid', 'faces_data': {'00Krishani': {'type': 'known_whitelist'}, '00Rashmi': {'type': 'known_whitelist'}, '00Sri_Hari': {'type': 'known_whitelist'}}}, '42': {'person_count': 2, 'vehicle_count': 0, 'frame_time': 'frametime', 'cid': 'cid', 'faces_data': {'00Rashmi': {'type': 'known_whitelist'}, '00Sri': {'type': 'known_whitelist'}, '00Krishani': {'type': 'known_whitelist'}}}, '43': {'person_count': 2, 'vehicle_count': 0, 'frame_time': 'frametime', 'cid': 'cid', 'faces_data': {'00Rashmi': {'type': 'known_whitelist'}, '00Sri_Hari': {'type': 'known_whitelist'}, '00Krishani': {'type': 'known_whitelist'}}}, '44': {'person_count': 2, 'vehicle_count': 0, 'frame_time': 'frametime', 'cid': 'cid', 'faces_data': {'00Rashmi': {'type': 'known_whitelist'}, '00Sri_Hari': {'type': 'known_whitelist'}, '00Krishani': {'type': 'known_whitelist'}}}}}\n",
            "Invalid or missing 'videos' key in JSON data.\n"
          ]
        }
      ]
    },
    {
      "cell_type": "markdown",
      "source": [
        "**Find the maximum number of vehicles in each video**"
      ],
      "metadata": {
        "id": "4Bw3GvagKZmN"
      }
    },
    {
      "cell_type": "code",
      "source": [
        "import json\n",
        "\n",
        "# Load the JSON data from a file\n",
        "with open('/content/results (1) (2)[3703].txt', 'r') as json_file:\n",
        "    data = json.load(json_file)\n",
        "\n",
        "# Assuming the JSON structure has a key \"videos\" that holds a list of video information\n",
        "if \"videos\" in data and isinstance(data[\"videos\"], list):\n",
        "    for video in data[\"videos\"]:\n",
        "        video_name = video.get(\"name\", \"Unknown Video\")\n",
        "        vehicles = video.get(\"vehicles\", [])\n",
        "\n",
        "        # Find the maximum number of vehicles in the video\n",
        "        max_vehicles = max(len(frame.get(\"vehicle_list\", [])) for frame in vehicles)\n",
        "        print(f\"Maximum vehicles in '{video_name}': {max_vehicles}\")\n",
        "else:\n",
        "    print(\"Invalid or missing 'videos' key in JSON data.\")\n"
      ],
      "metadata": {
        "colab": {
          "base_uri": "https://localhost:8080/"
        },
        "id": "34Q_gNBdKGu0",
        "outputId": "eaef6fa6-c7f7-4430-de09-4203cb4dee75"
      },
      "execution_count": null,
      "outputs": [
        {
          "output_type": "stream",
          "name": "stdout",
          "text": [
            "Invalid or missing 'videos' key in JSON data.\n"
          ]
        }
      ]
    },
    {
      "cell_type": "markdown",
      "source": [
        "**Find the maximum number of people in each video**"
      ],
      "metadata": {
        "id": "l49CcqxnK3DD"
      }
    },
    {
      "cell_type": "code",
      "source": [
        "import json\n",
        "\n",
        "# Load the JSON data from a file\n",
        "with open('/content/results (1) (2)[3703].txt', 'r') as json_file:\n",
        "    data = json.load(json_file)\n",
        "\n",
        "# Assuming the JSON structure has a key \"videos\" that holds a list of video information\n",
        "if \"videos\" in data and isinstance(data[\"videos\"], list):\n",
        "    for video in data[\"videos\"]:\n",
        "        video_name = video.get(\"name\", \"Unknown Video\")\n",
        "        frames = video.get(\"frames\", [])\n",
        "\n",
        "        # Find the maximum number of people in the video\n",
        "        max_people = max(frame.get(\"num_people\", 0) for frame in frames)\n",
        "        print(f\"Maximum people in '{video_name}': {max_people}\")\n",
        "else:\n",
        "    print(\"Invalid or missing 'videos' key in JSON data.\")\n"
      ],
      "metadata": {
        "colab": {
          "base_uri": "https://localhost:8080/"
        },
        "id": "eXTsB8T3KnOD",
        "outputId": "565567cd-0a0e-40ca-e3db-7bdf60a7a814"
      },
      "execution_count": null,
      "outputs": [
        {
          "output_type": "stream",
          "name": "stdout",
          "text": [
            "Invalid or missing 'videos' key in JSON data.\n"
          ]
        }
      ]
    },
    {
      "cell_type": "markdown",
      "source": [
        "**Find the number of categories of people and list the categories**"
      ],
      "metadata": {
        "id": "D0TQStwbLVLM"
      }
    },
    {
      "cell_type": "code",
      "source": [
        "\n",
        "# Assuming the JSON structure has a key \"categories\" that holds a list of category names\n",
        "if \"categories\" in data and isinstance(data[\"categories\"], list):\n",
        "    categories = data[\"categories\"]\n",
        "\n",
        "    # Count the number of categories\n",
        "    num_categories = len(categories)\n",
        "    print(f\"Number of categories of people: {num_categories}\")\n",
        "\n",
        "    # List the categories\n",
        "    print(\"List of categories:\")\n",
        "    for category in categories:\n",
        "        print(category)\n",
        "else:\n",
        "    print(\"Invalid or missing 'categories' key in JSON data.\")\n"
      ],
      "metadata": {
        "colab": {
          "base_uri": "https://localhost:8080/"
        },
        "id": "3wnFT4qwLItz",
        "outputId": "37648c36-305b-4086-e427-8a33d8c9f835"
      },
      "execution_count": null,
      "outputs": [
        {
          "output_type": "stream",
          "name": "stdout",
          "text": [
            "Invalid or missing 'categories' key in JSON data.\n"
          ]
        }
      ]
    },
    {
      "cell_type": "markdown",
      "source": [
        "**Find the people belonging to each category**"
      ],
      "metadata": {
        "id": "9ub5yVtBLflR"
      }
    },
    {
      "cell_type": "markdown",
      "source": [
        "**Load the Json Data**"
      ],
      "metadata": {
        "id": "thXPtSkvQ544"
      }
    },
    {
      "cell_type": "code",
      "source": [
        " pip install pyspark"
      ],
      "metadata": {
        "colab": {
          "base_uri": "https://localhost:8080/"
        },
        "id": "kPfxur7KQ5AT",
        "outputId": "bb15522c-f35d-43a2-a083-34dd988463bb"
      },
      "execution_count": null,
      "outputs": [
        {
          "output_type": "stream",
          "name": "stdout",
          "text": [
            "Collecting pyspark\n",
            "  Downloading pyspark-3.4.1.tar.gz (310.8 MB)\n",
            "\u001b[2K     \u001b[90m━━━━━━━━━━━━━━━━━━━━━━━━━━━━━━━━━━━━━━━\u001b[0m \u001b[32m310.8/310.8 MB\u001b[0m \u001b[31m3.0 MB/s\u001b[0m eta \u001b[36m0:00:00\u001b[0m\n",
            "\u001b[?25h  Preparing metadata (setup.py) ... \u001b[?25l\u001b[?25hdone\n",
            "Requirement already satisfied: py4j==0.10.9.7 in /usr/local/lib/python3.10/dist-packages (from pyspark) (0.10.9.7)\n",
            "Building wheels for collected packages: pyspark\n",
            "  Building wheel for pyspark (setup.py) ... \u001b[?25l\u001b[?25hdone\n",
            "  Created wheel for pyspark: filename=pyspark-3.4.1-py2.py3-none-any.whl size=311285388 sha256=4668da464968f9ee51e994438ae4162d0fa25e9a7f9eed2ba4480ea610278a11\n",
            "  Stored in directory: /root/.cache/pip/wheels/0d/77/a3/ff2f74cc9ab41f8f594dabf0579c2a7c6de920d584206e0834\n",
            "Successfully built pyspark\n",
            "Installing collected packages: pyspark\n",
            "Successfully installed pyspark-3.4.1\n"
          ]
        }
      ]
    },
    {
      "cell_type": "code",
      "source": [
        "# import  Spark_context\n",
        "from pyspark import SparkContext,SparkConf\n",
        "conf=SparkConf().setAppName(\"demo\").setMaster(\"local\")\n",
        "sc=SparkContext(conf=conf)"
      ],
      "metadata": {
        "id": "ZMA4KXfmRMNR"
      },
      "execution_count": null,
      "outputs": []
    },
    {
      "cell_type": "code",
      "source": [
        "import pandas as pd"
      ],
      "metadata": {
        "id": "RBjdsRCZSR6_"
      },
      "execution_count": null,
      "outputs": []
    },
    {
      "cell_type": "code",
      "source": [
        "import json\n",
        "\n",
        "with open('/content/Json_FIles-1.txt', 'r') as file:\n",
        "    data = json.load(file)\n",
        "\n",
        "print(data)\n"
      ],
      "metadata": {
        "colab": {
          "base_uri": "https://localhost:8080/"
        },
        "id": "a8f6PyNOWT6b",
        "outputId": "5623ae18-eb50-431d-f43b-cad2527ac3a0"
      },
      "execution_count": null,
      "outputs": [
        {
          "output_type": "stream",
          "name": "stdout",
          "text": [
            "[{'userId': 1, 'id': 1, 'title': 'delectus aut autem', 'completed': False}, {'userId': 1, 'id': 2, 'title': 'quis ut nam facilis et officia qui', 'completed': False}, {'userId': 1, 'id': 3, 'title': 'fugiat veniam minus', 'completed': False}, {'userId': 1, 'id': 4, 'title': 'et porro tempora', 'completed': True}, {'userId': 1, 'id': 5, 'title': 'laboriosam mollitia et enim quasi adipisci quia provident illum', 'completed': False}, {'userId': 1, 'id': 6, 'title': 'qui ullam ratione quibusdam voluptatem quia omnis', 'completed': False}, {'userId': 1, 'id': 7, 'title': 'illo expedita consequatur quia in', 'completed': False}, {'userId': 1, 'id': 8, 'title': 'quo adipisci enim quam ut ab', 'completed': True}, {'userId': 1, 'id': 9, 'title': 'molestiae perspiciatis ipsa', 'completed': False}, {'userId': 1, 'id': 10, 'title': 'illo est ratione doloremque quia maiores aut', 'completed': True}, {'userId': 1, 'id': 11, 'title': 'vero rerum temporibus dolor', 'completed': True}, {'userId': 1, 'id': 12, 'title': 'ipsa repellendus fugit nisi', 'completed': True}, {'userId': 1, 'id': 13, 'title': 'et doloremque nulla', 'completed': False}, {'userId': 1, 'id': 14, 'title': 'repellendus sunt dolores architecto voluptatum', 'completed': True}, {'userId': 1, 'id': 15, 'title': 'ab voluptatum amet voluptas', 'completed': True}, {'userId': 1, 'id': 16, 'title': 'accusamus eos facilis sint et aut voluptatem', 'completed': True}, {'userId': 1, 'id': 17, 'title': 'quo laboriosam deleniti aut qui', 'completed': True}, {'userId': 1, 'id': 18, 'title': 'dolorum est consequatur ea mollitia in culpa', 'completed': False}, {'userId': 1, 'id': 19, 'title': 'molestiae ipsa aut voluptatibus pariatur dolor nihil', 'completed': True}, {'userId': 1, 'id': 20, 'title': 'ullam nobis libero sapiente ad optio sint', 'completed': True}, {'userId': 2, 'id': 21, 'title': 'suscipit repellat esse quibusdam voluptatem incidunt', 'completed': False}, {'userId': 2, 'id': 22, 'title': 'distinctio vitae autem nihil ut molestias quo', 'completed': True}, {'userId': 2, 'id': 23, 'title': 'et itaque necessitatibus maxime molestiae qui quas velit', 'completed': False}, {'userId': 2, 'id': 24, 'title': 'adipisci non ad dicta qui amet quaerat doloribus ea', 'completed': False}, {'userId': 2, 'id': 25, 'title': 'voluptas quo tenetur perspiciatis explicabo natus', 'completed': True}, {'userId': 2, 'id': 26, 'title': 'aliquam aut quasi', 'completed': True}, {'userId': 2, 'id': 27, 'title': 'veritatis pariatur delectus', 'completed': True}, {'userId': 2, 'id': 28, 'title': 'nesciunt totam sit blanditiis sit', 'completed': False}, {'userId': 2, 'id': 29, 'title': 'laborum aut in quam', 'completed': False}, {'userId': 2, 'id': 30, 'title': 'nemo perspiciatis repellat ut dolor libero commodi blanditiis omnis', 'completed': True}, {'userId': 2, 'id': 31, 'title': 'repudiandae totam in est sint facere fuga', 'completed': False}, {'userId': 2, 'id': 32, 'title': 'earum doloribus ea doloremque quis', 'completed': False}, {'userId': 2, 'id': 33, 'title': 'sint sit aut vero', 'completed': False}, {'userId': 2, 'id': 34, 'title': 'porro aut necessitatibus eaque distinctio', 'completed': False}, {'userId': 2, 'id': 35, 'title': 'repellendus veritatis molestias dicta incidunt', 'completed': True}, {'userId': 2, 'id': 36, 'title': 'excepturi deleniti adipisci voluptatem et neque optio illum ad', 'completed': True}, {'userId': 2, 'id': 37, 'title': 'sunt cum tempora', 'completed': False}, {'userId': 2, 'id': 38, 'title': 'totam quia non', 'completed': False}, {'userId': 2, 'id': 39, 'title': 'doloremque quibusdam asperiores libero corrupti illum qui omnis', 'completed': False}, {'userId': 2, 'id': 40, 'title': 'totam atque quo nesciunt', 'completed': True}, {'userId': 3, 'id': 41, 'title': 'aliquid amet impedit consequatur aspernatur placeat eaque fugiat suscipit', 'completed': False}, {'userId': 3, 'id': 42, 'title': 'rerum perferendis error quia ut eveniet', 'completed': False}, {'userId': 3, 'id': 43, 'title': 'tempore ut sint quis recusandae', 'completed': True}, {'userId': 3, 'id': 44, 'title': 'cum debitis quis accusamus doloremque ipsa natus sapiente omnis', 'completed': True}, {'userId': 3, 'id': 45, 'title': 'velit soluta adipisci molestias reiciendis harum', 'completed': False}, {'userId': 3, 'id': 46, 'title': 'vel voluptatem repellat nihil placeat corporis', 'completed': False}, {'userId': 3, 'id': 47, 'title': 'nam qui rerum fugiat accusamus', 'completed': False}, {'userId': 3, 'id': 48, 'title': 'sit reprehenderit omnis quia', 'completed': False}, {'userId': 3, 'id': 49, 'title': 'ut necessitatibus aut maiores debitis officia blanditiis velit et', 'completed': False}, {'userId': 3, 'id': 50, 'title': 'cupiditate necessitatibus ullam aut quis dolor voluptate', 'completed': True}, {'userId': 3, 'id': 51, 'title': 'distinctio exercitationem ab doloribus', 'completed': False}, {'userId': 3, 'id': 52, 'title': 'nesciunt dolorum quis recusandae ad pariatur ratione', 'completed': False}, {'userId': 3, 'id': 53, 'title': 'qui labore est occaecati recusandae aliquid quam', 'completed': False}, {'userId': 3, 'id': 54, 'title': 'quis et est ut voluptate quam dolor', 'completed': True}, {'userId': 3, 'id': 55, 'title': 'voluptatum omnis minima qui occaecati provident nulla voluptatem ratione', 'completed': True}, {'userId': 3, 'id': 56, 'title': 'deleniti ea temporibus enim', 'completed': True}, {'userId': 3, 'id': 57, 'title': 'pariatur et magnam ea doloribus similique voluptatem rerum quia', 'completed': False}, {'userId': 3, 'id': 58, 'title': 'est dicta totam qui explicabo doloribus qui dignissimos', 'completed': False}, {'userId': 3, 'id': 59, 'title': 'perspiciatis velit id laborum placeat iusto et aliquam odio', 'completed': False}, {'userId': 3, 'id': 60, 'title': 'et sequi qui architecto ut adipisci', 'completed': True}, {'userId': 4, 'id': 61, 'title': 'odit optio omnis qui sunt', 'completed': True}, {'userId': 4, 'id': 62, 'title': 'et placeat et tempore aspernatur sint numquam', 'completed': False}, {'userId': 4, 'id': 63, 'title': 'doloremque aut dolores quidem fuga qui nulla', 'completed': True}, {'userId': 4, 'id': 64, 'title': 'voluptas consequatur qui ut quia magnam nemo esse', 'completed': False}, {'userId': 4, 'id': 65, 'title': 'fugiat pariatur ratione ut asperiores necessitatibus magni', 'completed': False}, {'userId': 4, 'id': 66, 'title': 'rerum eum molestias autem voluptatum sit optio', 'completed': False}, {'userId': 4, 'id': 67, 'title': 'quia voluptatibus voluptatem quos similique maiores repellat', 'completed': False}, {'userId': 4, 'id': 68, 'title': 'aut id perspiciatis voluptatem iusto', 'completed': False}, {'userId': 4, 'id': 69, 'title': 'doloribus sint dolorum ab adipisci itaque dignissimos aliquam suscipit', 'completed': False}, {'userId': 4, 'id': 70, 'title': 'ut sequi accusantium et mollitia delectus sunt', 'completed': False}, {'userId': 4, 'id': 71, 'title': 'aut velit saepe ullam', 'completed': False}, {'userId': 4, 'id': 72, 'title': 'praesentium facilis facere quis harum voluptatibus voluptatem eum', 'completed': False}, {'userId': 4, 'id': 73, 'title': 'sint amet quia totam corporis qui exercitationem commodi', 'completed': True}, {'userId': 4, 'id': 74, 'title': 'expedita tempore nobis eveniet laborum maiores', 'completed': False}, {'userId': 4, 'id': 75, 'title': 'occaecati adipisci est possimus totam', 'completed': False}, {'userId': 4, 'id': 76, 'title': 'sequi dolorem sed', 'completed': True}, {'userId': 4, 'id': 77, 'title': 'maiores aut nesciunt delectus exercitationem vel assumenda eligendi at', 'completed': False}, {'userId': 4, 'id': 78, 'title': 'reiciendis est magnam amet nemo iste recusandae impedit quaerat', 'completed': False}, {'userId': 4, 'id': 79, 'title': 'eum ipsa maxime ut', 'completed': True}, {'userId': 4, 'id': 80, 'title': 'tempore molestias dolores rerum sequi voluptates ipsum consequatur', 'completed': True}, {'userId': 5, 'id': 81, 'title': 'suscipit qui totam', 'completed': True}, {'userId': 5, 'id': 82, 'title': 'voluptates eum voluptas et dicta', 'completed': False}, {'userId': 5, 'id': 83, 'title': 'quidem at rerum quis ex aut sit quam', 'completed': True}, {'userId': 5, 'id': 84, 'title': 'sunt veritatis ut voluptate', 'completed': False}, {'userId': 5, 'id': 85, 'title': 'et quia ad iste a', 'completed': True}, {'userId': 5, 'id': 86, 'title': 'incidunt ut saepe autem', 'completed': True}, {'userId': 5, 'id': 87, 'title': 'laudantium quae eligendi consequatur quia et vero autem', 'completed': True}, {'userId': 5, 'id': 88, 'title': 'vitae aut excepturi laboriosam sint aliquam et et accusantium', 'completed': False}, {'userId': 5, 'id': 89, 'title': 'sequi ut omnis et', 'completed': True}, {'userId': 5, 'id': 90, 'title': 'molestiae nisi accusantium tenetur dolorem et', 'completed': True}, {'userId': 5, 'id': 91, 'title': 'nulla quis consequatur saepe qui id expedita', 'completed': True}, {'userId': 5, 'id': 92, 'title': 'in omnis laboriosam', 'completed': True}, {'userId': 5, 'id': 93, 'title': 'odio iure consequatur molestiae quibusdam necessitatibus quia sint', 'completed': True}, {'userId': 5, 'id': 94, 'title': 'facilis modi saepe mollitia', 'completed': False}, {'userId': 5, 'id': 95, 'title': 'vel nihil et molestiae iusto assumenda nemo quo ut', 'completed': True}, {'userId': 5, 'id': 96, 'title': 'nobis suscipit ducimus enim asperiores voluptas', 'completed': False}, {'userId': 5, 'id': 97, 'title': 'dolorum laboriosam eos qui iure aliquam', 'completed': False}, {'userId': 5, 'id': 98, 'title': 'debitis accusantium ut quo facilis nihil quis sapiente necessitatibus', 'completed': True}, {'userId': 5, 'id': 99, 'title': 'neque voluptates ratione', 'completed': False}, {'userId': 5, 'id': 100, 'title': 'excepturi a et neque qui expedita vel voluptate', 'completed': False}, {'userId': 6, 'id': 101, 'title': 'explicabo enim cumque porro aperiam occaecati minima', 'completed': False}, {'userId': 6, 'id': 102, 'title': 'sed ab consequatur', 'completed': False}, {'userId': 6, 'id': 103, 'title': 'non sunt delectus illo nulla tenetur enim omnis', 'completed': False}, {'userId': 6, 'id': 104, 'title': 'excepturi non laudantium quo', 'completed': False}, {'userId': 6, 'id': 105, 'title': 'totam quia dolorem et illum repellat voluptas optio', 'completed': True}, {'userId': 6, 'id': 106, 'title': 'ad illo quis voluptatem temporibus', 'completed': True}, {'userId': 6, 'id': 107, 'title': 'praesentium facilis omnis laudantium fugit ad iusto nihil nesciunt', 'completed': False}, {'userId': 6, 'id': 108, 'title': 'a eos eaque nihil et exercitationem incidunt delectus', 'completed': True}, {'userId': 6, 'id': 109, 'title': 'autem temporibus harum quisquam in culpa', 'completed': True}, {'userId': 6, 'id': 110, 'title': 'aut aut ea corporis', 'completed': True}, {'userId': 6, 'id': 111, 'title': 'magni accusantium labore et id quis provident', 'completed': False}, {'userId': 6, 'id': 112, 'title': 'consectetur impedit quisquam qui deserunt non rerum consequuntur eius', 'completed': False}, {'userId': 6, 'id': 113, 'title': 'quia atque aliquam sunt impedit voluptatum rerum assumenda nisi', 'completed': False}, {'userId': 6, 'id': 114, 'title': 'cupiditate quos possimus corporis quisquam exercitationem beatae', 'completed': False}, {'userId': 6, 'id': 115, 'title': 'sed et ea eum', 'completed': False}, {'userId': 6, 'id': 116, 'title': 'ipsa dolores vel facilis ut', 'completed': True}, {'userId': 6, 'id': 117, 'title': 'sequi quae est et qui qui eveniet asperiores', 'completed': False}, {'userId': 6, 'id': 118, 'title': 'quia modi consequatur vero fugiat', 'completed': False}, {'userId': 6, 'id': 119, 'title': 'corporis ducimus ea perspiciatis iste', 'completed': False}, {'userId': 6, 'id': 120, 'title': 'dolorem laboriosam vel voluptas et aliquam quasi', 'completed': False}, {'userId': 7, 'id': 121, 'title': 'inventore aut nihil minima laudantium hic qui omnis', 'completed': True}, {'userId': 7, 'id': 122, 'title': 'provident aut nobis culpa', 'completed': True}, {'userId': 7, 'id': 123, 'title': 'esse et quis iste est earum aut impedit', 'completed': False}, {'userId': 7, 'id': 124, 'title': 'qui consectetur id', 'completed': False}, {'userId': 7, 'id': 125, 'title': 'aut quasi autem iste tempore illum possimus', 'completed': False}, {'userId': 7, 'id': 126, 'title': 'ut asperiores perspiciatis veniam ipsum rerum saepe', 'completed': True}, {'userId': 7, 'id': 127, 'title': 'voluptatem libero consectetur rerum ut', 'completed': True}, {'userId': 7, 'id': 128, 'title': 'eius omnis est qui voluptatem autem', 'completed': False}, {'userId': 7, 'id': 129, 'title': 'rerum culpa quis harum', 'completed': False}, {'userId': 7, 'id': 130, 'title': 'nulla aliquid eveniet harum laborum libero alias ut unde', 'completed': True}, {'userId': 7, 'id': 131, 'title': 'qui ea incidunt quis', 'completed': False}, {'userId': 7, 'id': 132, 'title': 'qui molestiae voluptatibus velit iure harum quisquam', 'completed': True}, {'userId': 7, 'id': 133, 'title': 'et labore eos enim rerum consequatur sunt', 'completed': True}, {'userId': 7, 'id': 134, 'title': 'molestiae doloribus et laborum quod ea', 'completed': False}, {'userId': 7, 'id': 135, 'title': 'facere ipsa nam eum voluptates reiciendis vero qui', 'completed': False}, {'userId': 7, 'id': 136, 'title': 'asperiores illo tempora fuga sed ut quasi adipisci', 'completed': False}, {'userId': 7, 'id': 137, 'title': 'qui sit non', 'completed': False}, {'userId': 7, 'id': 138, 'title': 'placeat minima consequatur rem qui ut', 'completed': True}, {'userId': 7, 'id': 139, 'title': 'consequatur doloribus id possimus voluptas a voluptatem', 'completed': False}, {'userId': 7, 'id': 140, 'title': 'aut consectetur in blanditiis deserunt quia sed laboriosam', 'completed': True}, {'userId': 8, 'id': 141, 'title': 'explicabo consectetur debitis voluptates quas quae culpa rerum non', 'completed': True}, {'userId': 8, 'id': 142, 'title': 'maiores accusantium architecto necessitatibus reiciendis ea aut', 'completed': True}, {'userId': 8, 'id': 143, 'title': 'eum non recusandae cupiditate animi', 'completed': False}, {'userId': 8, 'id': 144, 'title': 'ut eum exercitationem sint', 'completed': False}, {'userId': 8, 'id': 145, 'title': 'beatae qui ullam incidunt voluptatem non nisi aliquam', 'completed': False}, {'userId': 8, 'id': 146, 'title': 'molestiae suscipit ratione nihil odio libero impedit vero totam', 'completed': True}, {'userId': 8, 'id': 147, 'title': 'eum itaque quod reprehenderit et facilis dolor autem ut', 'completed': True}, {'userId': 8, 'id': 148, 'title': 'esse quas et quo quasi exercitationem', 'completed': False}, {'userId': 8, 'id': 149, 'title': 'animi voluptas quod perferendis est', 'completed': False}, {'userId': 8, 'id': 150, 'title': 'eos amet tempore laudantium fugit a', 'completed': False}, {'userId': 8, 'id': 151, 'title': 'accusamus adipisci dicta qui quo ea explicabo sed vero', 'completed': True}, {'userId': 8, 'id': 152, 'title': 'odit eligendi recusandae doloremque cumque non', 'completed': False}, {'userId': 8, 'id': 153, 'title': 'ea aperiam consequatur qui repellat eos', 'completed': False}, {'userId': 8, 'id': 154, 'title': 'rerum non ex sapiente', 'completed': True}, {'userId': 8, 'id': 155, 'title': 'voluptatem nobis consequatur et assumenda magnam', 'completed': True}, {'userId': 8, 'id': 156, 'title': 'nam quia quia nulla repellat assumenda quibusdam sit nobis', 'completed': True}, {'userId': 8, 'id': 157, 'title': 'dolorem veniam quisquam deserunt repellendus', 'completed': True}, {'userId': 8, 'id': 158, 'title': 'debitis vitae delectus et harum accusamus aut deleniti a', 'completed': True}, {'userId': 8, 'id': 159, 'title': 'debitis adipisci quibusdam aliquam sed dolore ea praesentium nobis', 'completed': True}, {'userId': 8, 'id': 160, 'title': 'et praesentium aliquam est', 'completed': False}, {'userId': 9, 'id': 161, 'title': 'ex hic consequuntur earum omnis alias ut occaecati culpa', 'completed': True}, {'userId': 9, 'id': 162, 'title': 'omnis laboriosam molestias animi sunt dolore', 'completed': True}, {'userId': 9, 'id': 163, 'title': 'natus corrupti maxime laudantium et voluptatem laboriosam odit', 'completed': False}, {'userId': 9, 'id': 164, 'title': 'reprehenderit quos aut aut consequatur est sed', 'completed': False}, {'userId': 9, 'id': 165, 'title': 'fugiat perferendis sed aut quidem', 'completed': False}, {'userId': 9, 'id': 166, 'title': 'quos quo possimus suscipit minima ut', 'completed': False}, {'userId': 9, 'id': 167, 'title': 'et quis minus quo a asperiores molestiae', 'completed': False}, {'userId': 9, 'id': 168, 'title': 'recusandae quia qui sunt libero', 'completed': False}, {'userId': 9, 'id': 169, 'title': 'ea odio perferendis officiis', 'completed': True}, {'userId': 9, 'id': 170, 'title': 'quisquam aliquam quia doloribus aut', 'completed': False}, {'userId': 9, 'id': 171, 'title': 'fugiat aut voluptatibus corrupti deleniti velit iste odio', 'completed': True}, {'userId': 9, 'id': 172, 'title': 'et provident amet rerum consectetur et voluptatum', 'completed': False}, {'userId': 9, 'id': 173, 'title': 'harum ad aperiam quis', 'completed': False}, {'userId': 9, 'id': 174, 'title': 'similique aut quo', 'completed': False}, {'userId': 9, 'id': 175, 'title': 'laudantium eius officia perferendis provident perspiciatis asperiores', 'completed': True}, {'userId': 9, 'id': 176, 'title': 'magni soluta corrupti ut maiores rem quidem', 'completed': False}, {'userId': 9, 'id': 177, 'title': 'et placeat temporibus voluptas est tempora quos quibusdam', 'completed': False}, {'userId': 9, 'id': 178, 'title': 'nesciunt itaque commodi tempore', 'completed': True}, {'userId': 9, 'id': 179, 'title': 'omnis consequuntur cupiditate impedit itaque ipsam quo', 'completed': True}, {'userId': 9, 'id': 180, 'title': 'debitis nisi et dolorem repellat et', 'completed': True}, {'userId': 10, 'id': 181, 'title': 'ut cupiditate sequi aliquam fuga maiores', 'completed': False}, {'userId': 10, 'id': 182, 'title': 'inventore saepe cumque et aut illum enim', 'completed': True}, {'userId': 10, 'id': 183, 'title': 'omnis nulla eum aliquam distinctio', 'completed': True}, {'userId': 10, 'id': 184, 'title': 'molestias modi perferendis perspiciatis', 'completed': False}, {'userId': 10, 'id': 185, 'title': 'voluptates dignissimos sed doloribus animi quaerat aut', 'completed': False}, {'userId': 10, 'id': 186, 'title': 'explicabo odio est et', 'completed': False}, {'userId': 10, 'id': 187, 'title': 'consequuntur animi possimus', 'completed': False}, {'userId': 10, 'id': 188, 'title': 'vel non beatae est', 'completed': True}, {'userId': 10, 'id': 189, 'title': 'culpa eius et voluptatem et', 'completed': True}, {'userId': 10, 'id': 190, 'title': 'accusamus sint iusto et voluptatem exercitationem', 'completed': True}, {'userId': 10, 'id': 191, 'title': 'temporibus atque distinctio omnis eius impedit tempore molestias pariatur', 'completed': True}, {'userId': 10, 'id': 192, 'title': 'ut quas possimus exercitationem sint voluptates', 'completed': False}, {'userId': 10, 'id': 193, 'title': 'rerum debitis voluptatem qui eveniet tempora distinctio a', 'completed': True}, {'userId': 10, 'id': 194, 'title': 'sed ut vero sit molestiae', 'completed': False}, {'userId': 10, 'id': 195, 'title': 'rerum ex veniam mollitia voluptatibus pariatur', 'completed': True}, {'userId': 10, 'id': 196, 'title': 'consequuntur aut ut fugit similique', 'completed': True}, {'userId': 10, 'id': 197, 'title': 'dignissimos quo nobis earum saepe', 'completed': True}, {'userId': 10, 'id': 198, 'title': 'quis eius est sint explicabo', 'completed': True}, {'userId': 10, 'id': 199, 'title': 'numquam repellendus a magnam', 'completed': True}, {'userId': 10, 'id': 200, 'title': 'ipsam aperiam voluptates qui', 'completed': False}]\n"
          ]
        }
      ]
    },
    {
      "cell_type": "markdown",
      "source": [
        "**Write a script encode and decode the json**"
      ],
      "metadata": {
        "id": "-UHFg1MvPLTy"
      }
    },
    {
      "cell_type": "code",
      "source": [
        "import json\n",
        "\n",
        "# Sample JSON data\n",
        "data = [\n",
        "    {\"userId\": 1, \"id\": 1, \"title\": \"delectus aut autem\", \"completed\": False},\n",
        "    {\"userId\": 1, \"id\": 2, \"title\": \"quis ut nam facilis et officia qui\", \"completed\": False},\n",
        "    # ... (more data)\n",
        "]\n",
        "\n",
        "# Encoding (Serializing) JSON\n",
        "def encode_json(data):\n",
        "    try:\n",
        "        json_string = json.dumps(data, indent=4)  # Convert Python data to JSON string\n",
        "        return json_string\n",
        "    except Exception as e:\n",
        "        print(\"Error encoding JSON:\", e)\n",
        "        return None\n",
        "\n",
        "encoded_data = encode_json(data)\n",
        "if encoded_data:\n",
        "    print(\"Encoded JSON:\")\n",
        "    print(encoded_data)\n",
        "\n",
        "# Decoding (Deserializing) JSON\n",
        "def decode_json(json_string):\n",
        "    try:\n",
        "        decoded_data = json.loads(json_string)  # Convert JSON string to Python data\n",
        "        return decoded_data\n",
        "    except Exception as e:\n",
        "        print(\"Error decoding JSON:\", e)\n",
        "        return None\n",
        "\n",
        "# Example JSON string to decode (you can use the encoded_data from above)\n",
        "example_json_string = encoded_data\n",
        "\n",
        "decoded_data = decode_json(example_json_string)\n",
        "if decoded_data:\n",
        "    print(\"\\nDecoded JSON:\")\n",
        "    print(decoded_data)\n"
      ],
      "metadata": {
        "colab": {
          "base_uri": "https://localhost:8080/"
        },
        "id": "dWOsc6gLaNKw",
        "outputId": "975ebfb7-18ff-42c4-f8df-fafdf77b1e10"
      },
      "execution_count": null,
      "outputs": [
        {
          "output_type": "stream",
          "name": "stdout",
          "text": [
            "Encoded JSON:\n",
            "[\n",
            "    {\n",
            "        \"userId\": 1,\n",
            "        \"id\": 1,\n",
            "        \"title\": \"delectus aut autem\",\n",
            "        \"completed\": false\n",
            "    },\n",
            "    {\n",
            "        \"userId\": 1,\n",
            "        \"id\": 2,\n",
            "        \"title\": \"quis ut nam facilis et officia qui\",\n",
            "        \"completed\": false\n",
            "    }\n",
            "]\n",
            "\n",
            "Decoded JSON:\n",
            "[{'userId': 1, 'id': 1, 'title': 'delectus aut autem', 'completed': False}, {'userId': 1, 'id': 2, 'title': 'quis ut nam facilis et officia qui', 'completed': False}]\n"
          ]
        }
      ]
    },
    {
      "cell_type": "markdown",
      "source": [
        "**Find the number of users**"
      ],
      "metadata": {
        "id": "-dGWyq3kadyS"
      }
    },
    {
      "cell_type": "code",
      "source": [
        "import json\n",
        "\n",
        "# Sample JSON data\n",
        "data = [\n",
        "    {\"userId\": 1, \"id\": 1, \"title\": \"delectus aut autem\", \"completed\": False},\n",
        "    {\"userId\": 1, \"id\": 2, \"title\": \"quis ut nam facilis et officia qui\", \"completed\": False},\n",
        "    {\"userId\": 2, \"id\": 3, \"title\": \"fugiat veniam minus\", \"completed\": False},\n",
        "    # ... (more data)\n",
        "]\n",
        "\n",
        "def count_unique_users(data):\n",
        "    user_ids = set()  # To store unique user IDs\n",
        "    for item in data:\n",
        "        user_ids.add(item[\"userId\"])\n",
        "    return len(user_ids)\n",
        "\n",
        "num_users = count_unique_users(data)\n",
        "print(\"Number of users:\", num_users)\n"
      ],
      "metadata": {
        "colab": {
          "base_uri": "https://localhost:8080/"
        },
        "id": "DN0gP-ADaerB",
        "outputId": "78613e52-edaf-4122-fa2a-c98ce0d0ba2c"
      },
      "execution_count": null,
      "outputs": [
        {
          "output_type": "stream",
          "name": "stdout",
          "text": [
            "Number of users: 2\n"
          ]
        }
      ]
    },
    {
      "cell_type": "markdown",
      "source": [
        "**Find number of tasks for each users**"
      ],
      "metadata": {
        "id": "gXpTUDbCblX5"
      }
    },
    {
      "cell_type": "code",
      "source": [
        "\n",
        "import json\n",
        "\n",
        "# Sample JSON data\n",
        "data = [\n",
        "    {\"userId\": 1, \"id\": 1, \"title\": \"delectus aut autem\", \"completed\": False},\n",
        "    {\"userId\": 1, \"id\": 2, \"title\": \"quis ut nam facilis et officia qui\", \"completed\": False},\n",
        "    {\"userId\": 2, \"id\": 3, \"title\": \"fugiat veniam minus\", \"completed\": False},\n",
        "    # ... (more data)\n",
        "]\n",
        "\n",
        "def count_tasks_per_user(data):\n",
        "    task_count = {}  # Dictionary to store task count per user\n",
        "    for item in data:\n",
        "        user_id = item[\"userId\"]\n",
        "        if user_id in task_count:\n",
        "            task_count[user_id] += 1\n",
        "        else:\n",
        "            task_count[user_id] = 1\n",
        "    return task_count\n",
        "\n",
        "tasks_per_user = count_tasks_per_user(data)\n",
        "print(\"Number of tasks for each user:\", tasks_per_user)\n"
      ],
      "metadata": {
        "colab": {
          "base_uri": "https://localhost:8080/"
        },
        "id": "wvTiUzsGafTA",
        "outputId": "d42faa2f-40ed-4000-c3a4-654ee5188b88"
      },
      "execution_count": null,
      "outputs": [
        {
          "output_type": "stream",
          "name": "stdout",
          "text": [
            "Number of tasks for each user: {1: 2, 2: 1}\n"
          ]
        }
      ]
    },
    {
      "cell_type": "markdown",
      "source": [
        "**Find the number of completed and incomplete tasks for each users and rank them**"
      ],
      "metadata": {
        "id": "SrGdhySRbq7l"
      }
    },
    {
      "cell_type": "code",
      "source": [
        "#\n",
        "\n",
        "import json\n",
        "from collections import defaultdict\n",
        "\n",
        "# Sample JSON data\n",
        "data = [\n",
        "    {\"userId\": 1, \"id\": 1, \"title\": \"delectus aut autem\", \"completed\": False},\n",
        "    {\"userId\": 1, \"id\": 2, \"title\": \"quis ut nam facilis et officia qui\", \"completed\": True},\n",
        "    {\"userId\": 1, \"id\": 3, \"title\": \"fugiat veniam minus\", \"completed\": True},\n",
        "    {\"userId\": 2, \"id\": 4, \"title\": \"delectus aut autem\", \"completed\": False},\n",
        "    {\"userId\": 2, \"id\": 5, \"title\": \"quis ut nam facilis et officia qui\", \"completed\": True},\n",
        "    {\"userId\": 3, \"id\": 6, \"title\": \"fugiat veniam minus\", \"completed\": False},\n",
        "    # ... (more data)\n",
        "]\n",
        "\n",
        "def count_tasks_status_per_user(data):\n",
        "    task_counts = defaultdict(lambda: {\"completed\": 0, \"incomplete\": 0})\n",
        "    for item in data:\n",
        "        user_id = item[\"userId\"]\n",
        "        if item[\"completed\"]:\n",
        "            task_counts[user_id][\"completed\"] += 1\n",
        "        else:\n",
        "            task_counts[user_id][\"incomplete\"] += 1\n",
        "    return task_counts\n",
        "\n",
        "def rank_users_by_completed_tasks(task_counts):\n",
        "    ranked_users = sorted(task_counts.items(), key=lambda x: x[1][\"completed\"], reverse=True)\n",
        "    return ranked_users\n",
        "\n",
        "tasks_status_per_user = count_tasks_status_per_user(data)\n",
        "ranked_users = rank_users_by_completed_tasks(tasks_status_per_user)\n",
        "\n",
        "print(\"Number of completed and incomplete tasks for each user:\")\n",
        "for user_id, status in ranked_users:\n",
        "    print(f\"User ID: {user_id}, Completed: {status['completed']}, Incomplete: {status['incomplete']}\")\n",
        "\n"
      ],
      "metadata": {
        "colab": {
          "base_uri": "https://localhost:8080/"
        },
        "id": "Jm1f8OSXasrG",
        "outputId": "13d6d5c9-ef8a-49fe-8faf-759f4338e2a6"
      },
      "execution_count": null,
      "outputs": [
        {
          "output_type": "stream",
          "name": "stdout",
          "text": [
            "Number of completed and incomplete tasks for each user:\n",
            "User ID: 1, Completed: 2, Incomplete: 1\n",
            "User ID: 2, Completed: 1, Incomplete: 1\n",
            "User ID: 3, Completed: 0, Incomplete: 1\n"
          ]
        }
      ]
    },
    {
      "cell_type": "markdown",
      "source": [
        "****Calculate the frame timestamp, fps and their latency****"
      ],
      "metadata": {
        "id": "PiE6vKgYdsvv"
      }
    },
    {
      "cell_type": "code",
      "source": [
        "import time\n",
        "\n",
        "class FrameProcessor:\n",
        "    def __init__(self):\n",
        "        self.frame_count = 0\n",
        "        self.start_time = None\n",
        "        self.last_frame_time = None\n",
        "        self.frame_latencies = []\n",
        "\n",
        "    def process_frame(self):\n",
        "        current_time = time.time()\n",
        "\n",
        "        if self.start_time is None:\n",
        "            self.start_time = current_time\n",
        "\n",
        "        if self.last_frame_time is not None:\n",
        "            latency = current_time - self.last_frame_time\n",
        "            self.frame_latencies.append(latency)\n",
        "\n",
        "        self.last_frame_time = current_time\n",
        "        self.frame_count += 1\n",
        "\n",
        "    def get_fps(self):\n",
        "        elapsed_time = time.time() - self.start_time\n",
        "        fps = self.frame_count / elapsed_time if elapsed_time > 0 else 0\n",
        "        return fps\n",
        "\n",
        "    def get_average_latency(self):\n",
        "        total_latency = sum(self.frame_latencies)\n",
        "        average_latency = total_latency / len(self.frame_latencies) if len(self.frame_latencies) > 0 else 0\n",
        "        return average_latency\n",
        "\n",
        "# Create an instance of FrameProcessor\n",
        "frame_processor = FrameProcessor()\n",
        "\n",
        "# Simulate processing frames (you would replace this with your actual frame processing logic)\n",
        "for _ in range(100):\n",
        "    frame_processor.process_frame()\n",
        "    time.sleep(0.1)  # Simulate processing time\n",
        "\n",
        "# Get FPS and average latency\n",
        "fps = frame_processor.get_fps()\n",
        "average_latency = frame_processor.get_average_latency()\n",
        "\n",
        "print(f\"FPS: {fps:.2f}\")\n",
        "print(f\"Average Latency: {average_latency:.6f} seconds\")\n",
        "\n"
      ],
      "metadata": {
        "colab": {
          "base_uri": "https://localhost:8080/"
        },
        "id": "cJ72HWxEa7oL",
        "outputId": "33139426-e47c-49d9-8f74-39024ee9fe46"
      },
      "execution_count": null,
      "outputs": [
        {
          "output_type": "stream",
          "name": "stdout",
          "text": [
            "FPS: 9.98\n",
            "Average Latency: 0.100214 seconds\n"
          ]
        }
      ]
    },
    {
      "cell_type": "markdown",
      "source": [
        "**Write a code that reconnects automatically when the camera goes down. (Print a log info stating\n",
        "the amount of time the camera went offline. The no. of attempts happened for reconnection**"
      ],
      "metadata": {
        "id": "xEW5bh4odJdE"
      }
    },
    {
      "cell_type": "code",
      "source": [
        "import time\n",
        "\n",
        "class Camera:\n",
        "    def __init__(self):\n",
        "        self.is_connected = False\n",
        "        self.attempts = 0\n",
        "        self.start_time = None\n",
        "\n",
        "    def connect(self):\n",
        "        if not self.is_connected:\n",
        "            self.attempts += 1\n",
        "            self.start_time = time.time()\n",
        "            # Simulate the connection process\n",
        "            # Replace this with actual camera connection code\n",
        "            print(\"Connecting to the camera...\")\n",
        "            time.sleep(2)  # Simulating connection process\n",
        "            self.is_connected = True\n",
        "            print(\"Camera connected!\")\n",
        "\n",
        "    def disconnect(self):\n",
        "        if self.is_connected:\n",
        "            # Simulate the disconnection process\n",
        "            # Replace this with actual camera disconnection code\n",
        "            print(\"Disconnecting from the camera...\")\n",
        "            time.sleep(1)  # Simulating disconnection process\n",
        "            self.is_connected = False\n",
        "            print(\"Camera disconnected!\")\n",
        "\n",
        "    def is_camera_down(self):\n",
        "        # Simulate checking if the camera is down\n",
        "        # Replace this with actual camera status checking code\n",
        "        return not self.is_connected\n",
        "\n",
        "# Create an instance of Camera\n",
        "camera = Camera()\n",
        "\n",
        "while True:\n",
        "    if camera.is_camera_down():\n",
        "        camera.disconnect()\n",
        "        camera.connect()\n",
        "        downtime = time.time() - camera.start_time\n",
        "        print(f\"Camera was offline for {downtime:.2f} seconds\")\n",
        "        print(f\"Reconnection attempts: {camera.attempts}\")\n",
        "\n",
        "    time.sleep(5)  # Wait for a while before checking again\n"
      ],
      "metadata": {
        "id": "J-s2yH3ccUE3"
      },
      "execution_count": null,
      "outputs": []
    },
    {
      "cell_type": "markdown",
      "source": [
        "**rite an event based programming that triggers an alert message whenever a camera goes offline.**"
      ],
      "metadata": {
        "id": "wD84t6QldX_S"
      }
    },
    {
      "cell_type": "code",
      "source": [
        "import asyncio\n",
        "\n",
        "class Camera:\n",
        "    def __init__(self, camera_id):\n",
        "        self.camera_id = camera_id\n",
        "        self.is_connected = True\n",
        "\n",
        "    async def simulate_camera_status(self):\n",
        "        while True:\n",
        "            await asyncio.sleep(5)  # Simulate checking every 5 seconds\n",
        "            if self.is_camera_down():\n",
        "                print(f\"Camera {self.camera_id} is offline!\")\n",
        "                # Trigger alert message or notification here\n",
        "\n",
        "    def is_camera_down(self):\n",
        "        # Simulate checking if the camera is down\n",
        "        # Replace this with actual camera status checking code\n",
        "        return not self.is_connected\n",
        "\n",
        "# Define a function to handle alerts\n",
        "def send_alert(camera_id):\n",
        "    print(f\"ALERT: Camera {camera_id} is offline!\")\n",
        "\n",
        "async def main():\n",
        "    cameras = [Camera(1), Camera(2), Camera(3)]  # Create camera instances\n",
        "\n",
        "    # Start camera status simulation for each camera\n",
        "    tasks = [asyncio.create_task(camera.simulate_camera_status()) for camera in cameras]\n",
        "\n",
        "    # Event loop to monitor camera status\n",
        "    while True:\n",
        "        # Check for camera alerts\n",
        "        for camera in cameras:\n",
        "            if camera.is_camera_down():\n",
        "                send_alert(camera.camera_id)\n",
        "\n",
        "        await asyncio.sleep(1)  # Check every 1 second\n",
        "\n",
        "if __name__ == \"__main__\":\n",
        "    asyncio.run(main())\n"
      ],
      "metadata": {
        "id": "VK98duacdFJq"
      },
      "execution_count": null,
      "outputs": []
    },
    {
      "cell_type": "code",
      "source": [],
      "metadata": {
        "id": "k7ml61oxdfox"
      },
      "execution_count": null,
      "outputs": []
    }
  ]
}